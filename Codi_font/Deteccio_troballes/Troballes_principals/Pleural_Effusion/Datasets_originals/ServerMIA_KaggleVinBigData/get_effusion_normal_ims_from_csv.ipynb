{
 "cells": [
  {
   "cell_type": "code",
   "execution_count": 15,
   "metadata": {},
   "outputs": [],
   "source": [
    "# Filter all the entries of \"train.csv\" which have class_name as \"No finding\" or \"Pleural Effusion\"\n",
    "\n",
    "# Author: Marc Padrós \n",
    "# Date: 28th April 2022\n",
    "\n",
    "# Find dataset at: https://www.kaggle.com/competitions/vinbigdata-chest-xray-abnormalities-detection/\n",
    "\n",
    "# Read \"train.csv\" and at the same time write the filtered entries on \"train_process_stage-1.csv\"\n",
    "# This cell was implemented by taking into account the following documentation:\n",
    "# https://docs.python.org/3/library/csv.html\n",
    "import csv\n",
    "with open('train.csv','r', newline='') as fin, open ('train_process_stage-1.csv','w',newline='') as fout:\n",
    "    reader = csv.DictReader(fin)\n",
    "    fieldnames = ['image_id', 'class_name']\n",
    "    writer = csv.DictWriter(fout, fieldnames=fieldnames)  \n",
    "    writer.writeheader()         \n",
    "    for row in reader:\n",
    "        if row['class_name'] == 'No finding' or row['class_name'] == 'Pleural effusion':\n",
    "            writer.writerow({'image_id': row['image_id'], 'class_name': row['class_name']})"
   ]
  },
  {
   "cell_type": "code",
   "execution_count": 16,
   "metadata": {},
   "outputs": [
    {
     "name": "stdout",
     "output_type": "stream",
     "text": [
      "Number of train/valid ims stored:  1999\n",
      "How many of the train/valid ims stored are normal/effusion?:  1555\n"
     ]
    }
   ],
   "source": [
    "# Split train and validation images inside \"normal\" and \"effusion\" folders\n",
    "# NOTE: There has to be the same number of \"normal\" and \"effusion\" images\n",
    "\n",
    "# Process \"train_process_stage-1.csv\"\n",
    "\n",
    "import os \n",
    "\n",
    "pathTrainVal = \"processed_ds/train_val/\"\n",
    "\n",
    "trainValImgsIds = [fname[:-10] for fname in os.listdir(pathTrainVal)] # [:-10] is for extracting \".dicom.png\" suffix\n",
    "\n",
    "print(\"Number of train/valid ims stored: \", len(trainValImgsIds))\n",
    "\n",
    "\n",
    "nEffusionNormalIms = 0\n",
    "\n",
    "with open('train_process_stage-1.csv','r', newline='') as fin, open ('train_process_stage-2.csv','w',newline='') as fout:\n",
    "    reader = csv.DictReader(fin)\n",
    "    fieldnames = ['image_id', 'class_name']\n",
    "    writer = csv.DictWriter(fout, fieldnames=fieldnames)  \n",
    "    writer.writeheader()         \n",
    "    for row in reader:\n",
    "        if trainValImgsIds.__contains__(row['image_id']):\n",
    "            trainValImgsIds.remove(row['image_id']) # to avoid having rows on the new csv with dupplicated 'image_id'\n",
    "            writer.writerow({'image_id': row['image_id'], 'class_name': row['class_name']})\n",
    "            nEffusionNormalIms += 1\n",
    "\n",
    "print(\"How many of the train/valid ims stored are normal/effusion?: \", nEffusionNormalIms)\n"
   ]
  },
  {
   "cell_type": "code",
   "execution_count": 17,
   "metadata": {},
   "outputs": [
    {
     "name": "stdout",
     "output_type": "stream",
     "text": [
      "Total effusion images:  133\n",
      "Total normal images:  1422\n"
     ]
    }
   ],
   "source": [
    "# Read \"train_process_stage-2.csv\"\n",
    "\n",
    "effusionImgsNames = []\n",
    "\n",
    "normalImgsNames = []\n",
    "\n",
    "with open('train_process_stage-2.csv','r', newline='') as fin:\n",
    "    reader = csv.DictReader(fin)      \n",
    "    for row in reader:\n",
    "        if row['class_name'] == 'No finding':\n",
    "            normalImgsNames.append(row['image_id'] + \".dicom.png\")\n",
    "        else: # 'class_name' = 'Pleural effusion'\n",
    "            effusionImgsNames.append(row['image_id'] + \".dicom.png\")\n",
    "\n",
    "print(\"Total effusion images: \", len(effusionImgsNames))\n",
    "\n",
    "print(\"Total normal images: \", len(normalImgsNames))\n"
   ]
  },
  {
   "cell_type": "code",
   "execution_count": 24,
   "metadata": {},
   "outputs": [],
   "source": [
    "import cv2\n",
    "\n",
    "# equal number of effusion and normal images (133 according to the previous cell output)\n",
    "nEffusionNormalImgstoSplit = min(len(effusionImgsNames), len(normalImgsNames)) \n",
    "\n",
    "pathTrainValProcess = pathTrainVal + \"train_val_process/\"\n",
    "pathNormalImgs = pathTrainValProcess + \"normal/\"\n",
    "pathEffusionImgs = pathTrainValProcess + \"effusion/\"\n",
    "\n",
    "# Before storing the splitted normal/effusion imgs, remove the content of the path where the imgs will be stored\n",
    "#import shutil\n",
    "#shutil.rmtree(pathTrainValProcess)\n",
    "\n",
    "os.makedirs(pathNormalImgs, exist_ok=True) # create normal folder\n",
    "os.makedirs(pathEffusionImgs, exist_ok=True) # create effusion folder\n",
    "\n",
    "# 1st option: store effusion/normal imgs at the same time\n",
    "for i in range(nEffusionNormalImgstoSplit):\n",
    "    # Store a normal image inside \"normal\" folder\n",
    "    imgOri = cv2.imread(pathTrainVal + normalImgsNames[i], cv2.IMREAD_GRAYSCALE) \n",
    "    cv2.imwrite(os.path.join(pathNormalImgs, normalImgsNames[i]), imgOri)\n",
    "    # Store an effusion image inside \"effusion\" folder\n",
    "    imgOri = cv2.imread(pathTrainVal + effusionImgsNames[i], cv2.IMREAD_GRAYSCALE) \n",
    "    cv2.imwrite(os.path.join(pathEffusionImgs, effusionImgsNames[i]), imgOri)\n",
    "\n",
    "'''\n",
    "# 2nd option: store normal imgs first and then store effusion imgs\n",
    "for i in range(nEffusionNormalImgstoSplit):\n",
    "    # Store a normal image inside \"normal\" folder\n",
    "    imgOri = cv2.imread(pathTrainVal + normalImgsNames[i], cv2.IMREAD_GRAYSCALE) \n",
    "    cv2.imwrite(os.path.join(pathNormalImgs, normalImgsNames[i]), imgOri)\n",
    "\n",
    "for j in range(nEffusionNormalImgstoSplit):\n",
    "    # Store an effusion image inside \"effusion\" folder\n",
    "    imgOri = cv2.imread(pathTrainVal + effusionImgsNames[j], cv2.IMREAD_GRAYSCALE) \n",
    "    cv2.imwrite(os.path.join(pathEffusionImgs, effusionImgsNames[j]), imgOri)\n",
    "'''"
   ]
  }
 ],
 "metadata": {
  "interpreter": {
   "hash": "2a0658ff7a6d5ab0a4ef2d422b5e5441971028a0ce30ba0283631efe18810246"
  },
  "kernelspec": {
   "display_name": "Python 3.7.6 64-bit",
   "language": "python",
   "name": "python3"
  },
  "language_info": {
   "codemirror_mode": {
    "name": "ipython",
    "version": 3
   },
   "file_extension": ".py",
   "mimetype": "text/x-python",
   "name": "python",
   "nbconvert_exporter": "python",
   "pygments_lexer": "ipython3",
   "version": "3.7.6"
  },
  "orig_nbformat": 4
 },
 "nbformat": 4,
 "nbformat_minor": 2
}
