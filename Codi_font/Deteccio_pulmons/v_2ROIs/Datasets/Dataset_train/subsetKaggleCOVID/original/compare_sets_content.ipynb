{
 "cells": [
  {
   "cell_type": "code",
   "execution_count": 1,
   "metadata": {},
   "outputs": [],
   "source": [
    "import os \n",
    "\n",
    "valid_dir = \"train_val/valid/\"\n",
    "train_dir = \"train_val/train/\"\n",
    "test_dir = \"test/\"\n",
    "\n",
    "nFoundImgs = 0"
   ]
  },
  {
   "cell_type": "code",
   "execution_count": 2,
   "metadata": {},
   "outputs": [
    {
     "data": {
      "text/plain": [
       "\" \\n#Check if any validation image is also being used for training\\nvalidImgs = [validImgName for validImgName in os.listdir(valid_dir) if validImgName.endswith('.png')]\\nfor validImgName in validImgs:\\n    if (os.path.isfile(train_dir+validImgName)):\\n        nFoundImgs = nFoundImgs+1\\n        print(validImgName)\\nprint(nFoundImgs)\\n\""
      ]
     },
     "execution_count": 2,
     "metadata": {},
     "output_type": "execute_result"
    }
   ],
   "source": [
    "''' \n",
    "#Check if any validation image is also being used for training\n",
    "validImgs = [validImgName for validImgName in os.listdir(valid_dir) if validImgName.endswith('.png')]\n",
    "for validImgName in validImgs:\n",
    "    if (os.path.isfile(train_dir+validImgName)):\n",
    "        nFoundImgs = nFoundImgs+1\n",
    "        print(validImgName)\n",
    "print(nFoundImgs)\n",
    "'''"
   ]
  },
  {
   "cell_type": "code",
   "execution_count": 3,
   "metadata": {},
   "outputs": [
    {
     "name": "stdout",
     "output_type": "stream",
     "text": [
      "0\n"
     ]
    }
   ],
   "source": [
    "# Check if any test image is also being used for training or validation\n",
    "testImgs = [testImgName for testImgName in os.listdir(test_dir) if testImgName.endswith('.png')]\n",
    "for testImgName in testImgs:\n",
    "    if ((os.path.isfile(train_dir+testImgName)) or (os.path.isfile(valid_dir+testImgName))):\n",
    "        nFoundImgs = nFoundImgs+1\n",
    "        print(testImgName)\n",
    "print(nFoundImgs)"
   ]
  }
 ],
 "metadata": {
  "interpreter": {
   "hash": "2a0658ff7a6d5ab0a4ef2d422b5e5441971028a0ce30ba0283631efe18810246"
  },
  "kernelspec": {
   "display_name": "Python 3.7.6 64-bit",
   "language": "python",
   "name": "python3"
  },
  "language_info": {
   "codemirror_mode": {
    "name": "ipython",
    "version": 3
   },
   "file_extension": ".py",
   "mimetype": "text/x-python",
   "name": "python",
   "nbconvert_exporter": "python",
   "pygments_lexer": "ipython3",
   "version": "3.7.6"
  },
  "orig_nbformat": 4
 },
 "nbformat": 4,
 "nbformat_minor": 2
}
