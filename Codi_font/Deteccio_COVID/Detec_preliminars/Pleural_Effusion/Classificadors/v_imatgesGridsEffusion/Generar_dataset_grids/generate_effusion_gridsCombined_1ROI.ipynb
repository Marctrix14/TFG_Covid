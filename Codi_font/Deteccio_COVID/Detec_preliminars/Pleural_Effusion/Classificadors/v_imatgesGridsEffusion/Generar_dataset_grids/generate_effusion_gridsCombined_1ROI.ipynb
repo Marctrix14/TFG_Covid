{
 "cells": [
  {
   "cell_type": "code",
   "execution_count": 10,
   "metadata": {},
   "outputs": [],
   "source": [
    "import shutil\n",
    "import os\n",
    "from Llibreries.grid_library import * \n",
    "import cv2"
   ]
  },
  {
   "cell_type": "markdown",
   "metadata": {},
   "source": [
    "Get the original dataset of lungs images classified as \"normal\" / \"effusion\""
   ]
  },
  {
   "cell_type": "code",
   "execution_count": 11,
   "metadata": {},
   "outputs": [],
   "source": [
    "original_ds_path = '../../../v_imatgesPulmons/Datasets/1ROI_resized/' \n",
    "assert os.path.isdir(original_ds_path), \"Couldn't find the dataset at {}\".format(original_ds_path.data_dir)\n"
   ]
  },
  {
   "cell_type": "code",
   "execution_count": 12,
   "metadata": {},
   "outputs": [],
   "source": [
    "def getImgs(setName, labelType): #setName can be 'train'/'valid'/'test'; labelType can be 'normal'/'effusion'\n",
    "    data_dir = os.path.join(original_ds_path, setName, labelType)\n",
    "    imgs = os.listdir(data_dir)\n",
    "    imgs = [os.path.join(data_dir, f) for f in imgs if f.endswith('.png')]\n",
    "    return imgs"
   ]
  },
  {
   "cell_type": "code",
   "execution_count": 13,
   "metadata": {},
   "outputs": [],
   "source": [
    "# Get the images paths of each set (train/valid/test) and type (normal/effusion)\n",
    "imgsPaths = {'train': (getImgs('train_val/train', 'normal'), getImgs('train_val/train', 'effusion')),\n",
    "                 'valid': (getImgs('train_val/valid', 'normal'), getImgs('train_val/valid', 'effusion')),\n",
    "                 'test': (getImgs('test', 'normal'), getImgs('test', 'effusion'))}"
   ]
  },
  {
   "cell_type": "markdown",
   "metadata": {},
   "source": [
    "Extract the grids of the detected lungs where pleural effusion can be located and create a new dataset with these grids"
   ]
  },
  {
   "cell_type": "code",
   "execution_count": 14,
   "metadata": {},
   "outputs": [],
   "source": [
    "def extractPleuralGrids(imgPath):\n",
    "    \"\"\"Return the grid of the left lung and the grid of the right lung where pleural effusion can be located\"\"\"\n",
    "    \n",
    "    imgOri = cv2.imread(imgPath, cv2.IMREAD_GRAYSCALE) \n",
    "\n",
    "    imgRes = cv2.imread(imgPath) \n",
    "\n",
    "    # First, grid the image with nRows x nCols grids\n",
    "    nRows = 3\n",
    "    nCols = 6\n",
    "    grids = gridImg(imgRes,imgOri,nRows, nCols) # grid bbox left in the X-ray image / right in the body\n",
    "\n",
    "    # Then, get the grids where pleural effusion can be located\n",
    "    effusion_grid_left_lung = grids[12]\n",
    "    effusion_grid_right_lung = grids[17]\n",
    "    \n",
    "    # The last grid of the image will be the effusion grid of the right lung, in this case grid #17\n",
    "\n",
    "    # The effusion grid of the left lung is the first grid of the last rows of grids. \n",
    "    # We can do nGrids-nCols and we'll get this grid,in this case it's grid #12. \n",
    "   \n",
    "    # For more details and to understand why I use each grid number, \n",
    "    # check \"grid_image.ipynb\" on folder \"Algorisme_quadricules\" on the root of this project.\n",
    "\n",
    "    return [effusion_grid_left_lung, effusion_grid_right_lung]"
   ]
  },
  {
   "cell_type": "code",
   "execution_count": 15,
   "metadata": {},
   "outputs": [],
   "source": [
    "size = 64\n",
    "\n",
    "def resizeGrids(gridLeftLung, gridRightLung):\n",
    "    \"\"\"Resize each grid so that they have the same size\"\"\"\n",
    "    \n",
    "    # Use bilinear interpolation instead of the default \"nearest neighbor\" method\n",
    "    gridLeftLungResized = cv2.resize(gridLeftLung, (size, size), interpolation = cv2.INTER_AREA)\n",
    "    gridRightLungResized = cv2.resize(gridRightLung, (size, size), interpolation = cv2.INTER_AREA)\n",
    "    return [gridLeftLungResized, gridRightLungResized]\n",
    "\n",
    "\n",
    "def saveGrids(grids, output_dir, caseName):\n",
    "    \"\"\"Save to the `output_dir` the img of the pleural effusion grids related to case \"caseName\" \"\"\"\n",
    "\n",
    "    # Save the grids\n",
    "    cv2.imwrite(os.path.join(output_dir,caseName), grids)"
   ]
  },
  {
   "cell_type": "markdown",
   "metadata": {},
   "source": [
    "Main"
   ]
  },
  {
   "cell_type": "code",
   "execution_count": 16,
   "metadata": {},
   "outputs": [
    {
     "name": "stdout",
     "output_type": "stream",
     "text": [
      "Processing train data, saving grids to ../Datasets/gridsCombined/train_val\\train\n",
      "Processing valid data, saving grids to ../Datasets/gridsCombined/train_val\\valid\n",
      "Processing test data, saving grids to ../Datasets/gridsCombined/test\n",
      "Done building dataset\n"
     ]
    }
   ],
   "source": [
    "grids_ds_path = '../Datasets/gridsCombined/'\n",
    "\n",
    "# Process train, valid and test sets\n",
    "grids_train_val_dir = os.path.join(grids_ds_path, \"train_val\") \n",
    "grids_test_dir = os.path.join(grids_ds_path, \"test\") \n",
    "\n",
    "for set in ['train', 'valid', 'test']:\n",
    "    # Get the path of 'train'/'valid'/'test' sets on the new dataset (grids_ds)\n",
    "    # train and valid sets will be stored inside 'train_val' folder \n",
    "    if set == 'test':\n",
    "        output_dir_set = grids_test_dir\n",
    "    else:\n",
    "        output_dir_set = os.path.join(grids_train_val_dir, set) \n",
    "\n",
    "    # Get the paths of 'normal' and 'effusion' subfolders \n",
    "    normal_dir = os.path.join(output_dir_set, 'normal')\n",
    "    effusion_dir = os.path.join(output_dir_set, 'effusion')\n",
    "\n",
    "    # Delete if possible the folders 'normal' and 'effusion' from previous executions of this notebook\n",
    "    shutil.rmtree(normal_dir, ignore_errors=True) # making ignore_errors = True will not raise a FileNotFoundError in case directory doesn't exist\n",
    "    shutil.rmtree(effusion_dir, ignore_errors=True)\n",
    "\n",
    "    # Create folders named 'normal' and 'effusion' and their parent folders named 'train'/'valid'/'test'\n",
    "    os.makedirs(normal_dir, exist_ok=True)\n",
    "    os.makedirs(effusion_dir, exist_ok=True)\n",
    "\n",
    "    print(\"Processing {} data, saving grids to {}\".format(set, output_dir_set))\n",
    "    # Process the images of each set (train/valid/test)\n",
    "    # Each set has the same number of normal and \"pleural effusion\" images  \n",
    "    # Process normal imgs first and then process the effusion imgs\n",
    "    for i in range(2): \n",
    "        grids_dir = [normal_dir, effusion_dir] \n",
    "        for j in range(len(imgsPaths[set][i])): # imgsPaths[set][0] are the normal images paths of a set; imgsPaths[set][1] are the effusion images paths of a set\n",
    "            # Process each normal/effusion image from the corresponding set (train/val/test)\n",
    "            imgPath = imgsPaths[set][i][j] \n",
    "            imgName = imgPath.split('\\\\')[-1] # for example, if imgPath = '[...] train\\normal\\normal1.png'; imgName = normal1.png \n",
    "            gridLeftLung, gridRightLung = extractPleuralGrids(imgPath)\n",
    "            # Before combining each grid we need to make them have the same size\n",
    "            resizedGrids = resizeGrids(gridLeftLung, gridRightLung) # resizedGrids is a list that contains both grids resized to the same size\n",
    "            # Horizontally concatenate the grid of the left lung with the grid of the right lung\n",
    "            grids = cv2.hconcat(resizedGrids)\n",
    "            # Save the image of the combined grids  \n",
    "            saveGrids(grids, grids_dir[i], imgName)\n",
    "print(\"Done building dataset\")"
   ]
  }
 ],
 "metadata": {
  "interpreter": {
   "hash": "42eb35d03479a7d9ddddcd43f312f5884826ea686af3a8d1397a8aaeebbc8020"
  },
  "kernelspec": {
   "display_name": "Python 3.7.6 64-bit",
   "language": "python",
   "name": "python3"
  },
  "language_info": {
   "codemirror_mode": {
    "name": "ipython",
    "version": 3
   },
   "file_extension": ".py",
   "mimetype": "text/x-python",
   "name": "python",
   "nbconvert_exporter": "python",
   "pygments_lexer": "ipython3",
   "version": "3.7.6"
  },
  "orig_nbformat": 4
 },
 "nbformat": 4,
 "nbformat_minor": 2
}
