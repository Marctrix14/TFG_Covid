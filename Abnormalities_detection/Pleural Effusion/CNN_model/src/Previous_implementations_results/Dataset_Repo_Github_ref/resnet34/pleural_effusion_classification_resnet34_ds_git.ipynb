{
  "cells": [
    {
      "cell_type": "markdown",
      "metadata": {
        "id": "TvgT5KkB6JDX"
      },
      "source": [
        "## Image classification (single label)\n",
        "\n",
        "Each image has one given label (\"effusion\", \"normal\")\n",
        "\n",
        "Documentation:\n",
        "\n",
        "Creating a dataset, training:\n",
        "https://towardsdatascience.com/image-classification-using-fastai-v2-on-colab-33f3ebe9b5a3\n",
        "\n",
        "Training, prediction + interpretation:\n",
        "https://docs.fast.ai/tutorial.medical_imaging.html"
      ]
    },
    {
      "cell_type": "code",
      "execution_count": 1,
      "metadata": {
        "colab": {
          "base_uri": "https://localhost:8080/"
        },
        "id": "9_wb11wT6kAt",
        "outputId": "6bc680a5-bf3d-42d8-9338-f04bc486e403"
      },
      "outputs": [],
      "source": [
        "# When I want to close any Google Colab project, before \n",
        "# I have to finish all the opened sessions \n",
        "# (go to Entorno de ejecucion > Gestionar sesiones)\n",
        "# After finishing all the sesions I've to\n",
        "# select None as execution environment \n",
        "\n",
        "# The next lines should be uncommented only when loading a new execution environment (GPU/TPU)\n",
        "# NOTE: uncomment next lines when running this notebook on Drive\n",
        "#from google.colab import drive\n",
        "#drive.mount('/content/drive')\n"
      ]
    },
    {
      "cell_type": "code",
      "execution_count": 2,
      "metadata": {
        "id": "YcsrvA7C6JDa"
      },
      "outputs": [],
      "source": [
        "%reload_ext autoreload\n",
        "%autoreload 2\n",
        "%matplotlib inline"
      ]
    },
    {
      "cell_type": "code",
      "execution_count": 3,
      "metadata": {
        "colab": {
          "base_uri": "https://localhost:8080/"
        },
        "id": "iIGjHrfK6JDb",
        "outputId": "68faf309-0b24-4266-cd02-3c10135fbc19"
      },
      "outputs": [
        {
          "name": "stdout",
          "output_type": "stream",
          "text": [
            "11.3\n",
            "True\n",
            "0\n"
          ]
        }
      ],
      "source": [
        "import os\n",
        "os.environ[\"CUDA_DEVICE_ORDER\"]=\"PCI_BUS_ID\"\n",
        "os.environ[\"CUDA_VISIBLE_DEVICES\"]=\"0\" # 0 = id of the gpu\n",
        "# To know which id have to be set on the previous line, on Windows 10 run \"nvidia-smi\" on CMD to check all the installed GPUs data, like\n",
        "# the id, driver version and CUDA version \n",
        "\n",
        "# Check if your GPU driver and CUDA is enabled and is accessible by PyTorch\n",
        "# TO USE CUDA SELECT A GPU ON THE EXECUTION ENVIRONMENT, NOT A TPU\n",
        "import torch; print(torch.version.cuda) # the CUDA version must be printed\n",
        "print(torch.cuda.is_available()) # True must be printed (if False press on the Restart button at the top of the notebook)\n",
        "print(torch.cuda.current_device()) # the id of the GPU must be printed"
      ]
    },
    {
      "cell_type": "code",
      "execution_count": 4,
      "metadata": {
        "colab": {
          "base_uri": "https://localhost:8080/"
        },
        "id": "4VoW-zvE6JDc",
        "outputId": "dd921a81-05eb-4cf5-f883-9ad7436c65c8"
      },
      "outputs": [],
      "source": [
        "# Uncomment next line if \"from fastai.vision.all import *\" returns error\n",
        "#!pip install fastai --upgrade # NOTE: uncomment on Drive \n",
        "\n",
        "from fastai.vision.all import *\n",
        "from fastai.vision import *\n",
        "from fastai.metrics import accuracy\n",
        "#from torch.nn import L1Loss\n",
        "from skimage.util import montage\n",
        "import numpy as np"
      ]
    },
    {
      "cell_type": "markdown",
      "metadata": {
        "id": "IRnBLxyY6JDd"
      },
      "source": [
        "## Getting and converting the data"
      ]
    },
    {
      "cell_type": "code",
      "execution_count": 5,
      "metadata": {
        "id": "my6zf3-i6JDd"
      },
      "outputs": [],
      "source": [
        "# Get the path of the dataset  \n",
        "\n",
        "path = 'dataset/train_test' # ignore the validation set (just use the train_test)\n",
        "\n",
        "# dataset source - https://www.kaggle.com/epreis/rxtorax "
      ]
    },
    {
      "cell_type": "markdown",
      "metadata": {
        "id": "mfedM8fV6JDh"
      },
      "source": [
        "## Creating a dataset"
      ]
    },
    {
      "cell_type": "code",
      "execution_count": 6,
      "metadata": {
        "id": "xdVmmAh16JDi"
      },
      "outputs": [],
      "source": [
        "data = DataBlock(\n",
        "    blocks=(ImageBlock, CategoryBlock), # CategoryBlock = label\n",
        "    get_items=get_image_files,\n",
        "    get_y= parent_label, # parent_label = the folders names of the images are the labels\n",
        "    splitter=RandomSplitter(valid_pct=0.2, seed=42), # split training/validation; parameter 0.1 means there will be 10% of validation images \n",
        "    batch_tfms= [*aug_transforms(do_flip=False, size=(120,160)), Normalize.from_stats(*imagenet_stats)] \n",
        ")\n"
      ]
    },
    {
      "cell_type": "code",
      "execution_count": 7,
      "metadata": {
        "colab": {
          "base_uri": "https://localhost:8080/"
        },
        "id": "Vxl669_o6JDi",
        "outputId": "a514f070-4fa3-40a9-fdd9-48162131fe0f"
      },
      "outputs": [
        {
          "data": {
            "text/plain": [
              "(#4) [Path('effusion'),Path('models'),Path('normal'),Path('trained_effusion_classif_resnet_export.pkl')]"
            ]
          },
          "execution_count": 7,
          "metadata": {},
          "output_type": "execute_result"
        }
      ],
      "source": [
        "path_dl = Path(path)\n",
        "Path.BASE_PATH = path_dl\n",
        "path_dl.ls().sorted()"
      ]
    },
    {
      "cell_type": "code",
      "execution_count": 8,
      "metadata": {
        "colab": {
          "base_uri": "https://localhost:8080/",
          "height": 351
        },
        "id": "3MDa_nme6JDi",
        "outputId": "37d8659f-8860-4346-dbc4-4273f4c070cf"
      },
      "outputs": [
        {
          "name": "stdout",
          "output_type": "stream",
          "text": [
            "Due to IPython and Windows limitation, python multiprocessing isn't available now.\n",
            "So `number_workers` is changed to 0 to avoid getting stuck\n"
          ]
        },
        {
          "name": "stderr",
          "output_type": "stream",
          "text": [
            "C:\\Users\\marcp\\AppData\\Local\\Programs\\Python\\Python37\\lib\\site-packages\\torch\\_tensor.py:1142: UserWarning: torch.solve is deprecated in favor of torch.linalg.solveand will be removed in a future PyTorch release.\n",
            "torch.linalg.solve has its arguments reversed and does not return the LU factorization.\n",
            "To get the LU factorization see torch.lu, which can be used with torch.lu_solve or torch.lu_unpack.\n",
            "X = torch.solve(B, A).solution\n",
            "should be replaced with\n",
            "X = torch.linalg.solve(A, B) (Triggered internally at  C:\\actions-runner\\_work\\pytorch\\pytorch\\builder\\windows\\pytorch\\aten\\src\\ATen\\native\\BatchLinearAlgebra.cpp:859.)\n",
            "  ret = func(*args, **kwargs)\n"
          ]
        },
        {
          "data": {
            "image/png": "[encoded data removed]",
            "text/plain": [
              "<Figure size 648x432 with 20 Axes>"
            ]
          },
          "metadata": {
            "needs_background": "light"
          },
          "output_type": "display_data"
        }
      ],
      "source": [
        "# Load the data and show a batch # NOTE: research to explain more properly what the 2 next lines do \n",
        "\n",
        "dls = data.dataloaders(path_dl, path=path_dl, bs = 64) # bs: how many samples per batch to load \n",
        "# If your GPU doesn't have enough memory and you can't run the whole notebook, \n",
        "# reduce the bs parameter value to, for example, 16 or 8\n",
        "# and press the Restart button at the top of the notebook to empty the used memory\n",
        "\n",
        "dls.show_batch(max_n=20, figsize=(9,6)) # NOTE: what do the values of figsize represent?\n",
        "# NOTE: The batch shown contains validation and training images?"
      ]
    },
    {
      "cell_type": "code",
      "execution_count": 9,
      "metadata": {},
      "outputs": [
        {
          "data": {
            "text/plain": [
              "['effusion', 'normal']"
            ]
          },
          "execution_count": 9,
          "metadata": {},
          "output_type": "execute_result"
        }
      ],
      "source": [
        "# Checks the labels using vocab\n",
        "\n",
        "dls.vocab"
      ]
    },
    {
      "cell_type": "code",
      "execution_count": 10,
      "metadata": {
        "colab": {
          "base_uri": "https://localhost:8080/"
        },
        "id": "p5Ep84xG6JDj",
        "outputId": "1216c585-7557-48d6-9660-6a4e6e6f9747"
      },
      "outputs": [
        {
          "data": {
            "text/plain": [
              "[Path('effusion/effusion482.png'),\n",
              " Path('normal/normal393.png'),\n",
              " Path('effusion/effusion277.png'),\n",
              " Path('effusion/effusion202.png'),\n",
              " Path('normal/normal482.png'),\n",
              " Path('effusion/effusion50.png'),\n",
              " Path('normal/normal363.png'),\n",
              " Path('effusion/effusion338.png'),\n",
              " Path('normal/normal370.png'),\n",
              " Path('effusion/effusion374.png'),\n",
              " Path('effusion/effusion354.png'),\n",
              " Path('effusion/effusion480.png'),\n",
              " Path('effusion/effusion446.png'),\n",
              " Path('effusion/effusion100.png'),\n",
              " Path('normal/normal256.png'),\n",
              " Path('normal/normal346.png'),\n",
              " Path('effusion/effusion59.png'),\n",
              " Path('normal/normal409.png'),\n",
              " Path('effusion/effusion223.png'),\n",
              " Path('normal/normal476.png'),\n",
              " Path('normal/normal135.png'),\n",
              " Path('effusion/effusion13.png'),\n",
              " Path('effusion/effusion22.png'),\n",
              " Path('effusion/effusion350.png'),\n",
              " Path('effusion/effusion201.png'),\n",
              " Path('normal/normal191.png'),\n",
              " Path('normal/normal155.png'),\n",
              " Path('effusion/effusion194.png'),\n",
              " Path('normal/normal313.png'),\n",
              " Path('normal/normal10.png'),\n",
              " Path('normal/normal89.png'),\n",
              " Path('normal/normal391.png'),\n",
              " Path('normal/normal324.png'),\n",
              " Path('effusion/effusion485.png'),\n",
              " Path('normal/normal42.png'),\n",
              " Path('effusion/effusion330.png'),\n",
              " Path('effusion/effusion166.png'),\n",
              " Path('normal/normal343.png'),\n",
              " Path('normal/normal279.png'),\n",
              " Path('effusion/effusion117.png'),\n",
              " Path('normal/normal330.png'),\n",
              " Path('normal/normal408.png'),\n",
              " Path('effusion/effusion386.png'),\n",
              " Path('normal/normal246.png'),\n",
              " Path('normal/normal331.png'),\n",
              " Path('normal/normal286.png'),\n",
              " Path('effusion/effusion203.png'),\n",
              " Path('normal/normal143.png'),\n",
              " Path('effusion/effusion168.png'),\n",
              " Path('effusion/effusion228.png'),\n",
              " Path('normal/normal280.png'),\n",
              " Path('normal/normal252.png'),\n",
              " Path('effusion/effusion41.png'),\n",
              " Path('normal/normal142.png'),\n",
              " Path('normal/normal237.png'),\n",
              " Path('normal/normal377.png'),\n",
              " Path('effusion/effusion461.png'),\n",
              " Path('normal/normal323.png'),\n",
              " Path('normal/normal224.png'),\n",
              " Path('effusion/effusion262.png'),\n",
              " Path('normal/normal208.png'),\n",
              " Path('normal/normal381.png'),\n",
              " Path('effusion/effusion226.png'),\n",
              " Path('effusion/effusion303.png'),\n",
              " Path('normal/normal233.png'),\n",
              " Path('effusion/effusion218.png'),\n",
              " Path('normal/normal395.png'),\n",
              " Path('normal/normal225.png'),\n",
              " Path('normal/normal292.png'),\n",
              " Path('normal/normal207.png'),\n",
              " Path('effusion/effusion375.png'),\n",
              " Path('effusion/effusion368.png'),\n",
              " Path('normal/normal499.png'),\n",
              " Path('normal/normal268.png'),\n",
              " Path('effusion/effusion244.png'),\n",
              " Path('effusion/effusion177.png'),\n",
              " Path('normal/normal230.png'),\n",
              " Path('effusion/effusion420.png'),\n",
              " Path('normal/normal305.png'),\n",
              " Path('effusion/effusion134.png'),\n",
              " Path('effusion/effusion151.png'),\n",
              " Path('normal/normal498.png'),\n",
              " Path('effusion/effusion497.png'),\n",
              " Path('effusion/effusion232.png'),\n",
              " Path('normal/normal165.png'),\n",
              " Path('effusion/effusion345.png'),\n",
              " Path('normal/normal496.png'),\n",
              " Path('effusion/effusion462.png'),\n",
              " Path('normal/normal39.png'),\n",
              " Path('effusion/effusion366.png'),\n",
              " Path('effusion/effusion26.png'),\n",
              " Path('effusion/effusion381.png'),\n",
              " Path('effusion/effusion33.png'),\n",
              " Path('normal/normal337.png'),\n",
              " Path('normal/normal382.png'),\n",
              " Path('effusion/effusion283.png'),\n",
              " Path('effusion/effusion64.png'),\n",
              " Path('normal/normal161.png'),\n",
              " Path('effusion/effusion498.png'),\n",
              " Path('effusion/effusion360.png'),\n",
              " Path('effusion/effusion133.png'),\n",
              " Path('normal/normal479.png'),\n",
              " Path('normal/normal227.png'),\n",
              " Path('normal/normal205.png'),\n",
              " Path('normal/normal485.png'),\n",
              " Path('normal/normal463.png'),\n",
              " Path('normal/normal302.png'),\n",
              " Path('normal/normal295.png'),\n",
              " Path('effusion/effusion261.png'),\n",
              " Path('normal/normal173.png'),\n",
              " Path('normal/normal80.png'),\n",
              " Path('normal/normal124.png'),\n",
              " Path('normal/normal104.png'),\n",
              " Path('effusion/effusion138.png'),\n",
              " Path('normal/normal215.png'),\n",
              " Path('normal/normal192.png'),\n",
              " Path('effusion/effusion408.png'),\n",
              " Path('effusion/effusion110.png'),\n",
              " Path('effusion/effusion28.png'),\n",
              " Path('effusion/effusion302.png'),\n",
              " Path('effusion/effusion490.png'),\n",
              " Path('effusion/effusion128.png'),\n",
              " Path('normal/normal317.png'),\n",
              " Path('normal/normal435.png'),\n",
              " Path('effusion/effusion135.png'),\n",
              " Path('effusion/effusion447.png'),\n",
              " Path('effusion/effusion127.png'),\n",
              " Path('normal/normal97.png'),\n",
              " Path('effusion/effusion238.png'),\n",
              " Path('effusion/effusion11.png'),\n",
              " Path('effusion/effusion355.png'),\n",
              " Path('normal/normal448.png'),\n",
              " Path('normal/normal109.png'),\n",
              " Path('effusion/effusion416.png'),\n",
              " Path('effusion/effusion189.png'),\n",
              " Path('normal/normal421.png'),\n",
              " Path('normal/normal350.png'),\n",
              " Path('effusion/effusion369.png'),\n",
              " Path('effusion/effusion233.png'),\n",
              " Path('effusion/effusion359.png'),\n",
              " Path('normal/normal461.png'),\n",
              " Path('effusion/effusion406.png'),\n",
              " Path('effusion/effusion230.png'),\n",
              " Path('normal/normal489.png'),\n",
              " Path('effusion/effusion191.png'),\n",
              " Path('normal/normal72.png'),\n",
              " Path('effusion/effusion109.png'),\n",
              " Path('effusion/effusion146.png'),\n",
              " Path('normal/normal145.png'),\n",
              " Path('normal/normal48.png'),\n",
              " Path('normal/normal440.png'),\n",
              " Path('normal/normal58.png'),\n",
              " Path('normal/normal307.png'),\n",
              " Path('effusion/effusion112.png'),\n",
              " Path('effusion/effusion165.png'),\n",
              " Path('effusion/effusion448.png'),\n",
              " Path('effusion/effusion299.png'),\n",
              " Path('normal/normal250.png'),\n",
              " Path('effusion/effusion387.png'),\n",
              " Path('effusion/effusion456.png'),\n",
              " Path('effusion/effusion248.png'),\n",
              " Path('effusion/effusion224.png'),\n",
              " Path('normal/normal17.png'),\n",
              " Path('normal/normal281.png'),\n",
              " Path('normal/normal19.png'),\n",
              " Path('normal/normal428.png'),\n",
              " Path('normal/normal188.png'),\n",
              " Path('normal/normal255.png'),\n",
              " Path('effusion/effusion453.png'),\n",
              " Path('effusion/effusion53.png'),\n",
              " Path('effusion/effusion211.png'),\n",
              " Path('effusion/effusion84.png'),\n",
              " Path('normal/normal309.png'),\n",
              " Path('effusion/effusion89.png'),\n",
              " Path('normal/normal53.png'),\n",
              " Path('effusion/effusion193.png'),\n",
              " Path('effusion/effusion102.png'),\n",
              " Path('normal/normal464.png'),\n",
              " Path('normal/normal459.png'),\n",
              " Path('effusion/effusion306.png'),\n",
              " Path('effusion/effusion271.png'),\n",
              " Path('normal/normal73.png'),\n",
              " Path('normal/normal294.png'),\n",
              " Path('effusion/effusion325.png'),\n",
              " Path('normal/normal30.png'),\n",
              " Path('normal/normal417.png'),\n",
              " Path('effusion/effusion149.png'),\n",
              " Path('effusion/effusion437.png'),\n",
              " Path('effusion/effusion288.png'),\n",
              " Path('effusion/effusion460.png'),\n",
              " Path('effusion/effusion209.png'),\n",
              " Path('effusion/effusion214.png'),\n",
              " Path('normal/normal178.png'),\n",
              " Path('normal/normal174.png'),\n",
              " Path('effusion/effusion358.png'),\n",
              " Path('normal/normal201.png'),\n",
              " Path('normal/normal300.png'),\n",
              " Path('effusion/effusion56.png')]"
            ]
          },
          "execution_count": 10,
          "metadata": {},
          "output_type": "execute_result"
        }
      ],
      "source": [
        "# Show the list of validation images\n",
        "\n",
        "# Next line from the original code is commented because it returns error ('DataBlock' object has no attribute 'valid_ds')\n",
        "# data.valid_ds.items\n",
        "# Instead of data.valid_ds.items it should be dls.valid_ds.items \n",
        "dls.valid_ds.items"
      ]
    },
    {
      "cell_type": "markdown",
      "metadata": {
        "id": "bRj2JcSh6JDk"
      },
      "source": [
        "## Train model\n",
        "\n"
      ]
    },
    {
      "cell_type": "code",
      "execution_count": 11,
      "metadata": {
        "colab": {
          "base_uri": "https://localhost:8080/",
          "height": 66,
          "referenced_widgets": [
            "43da5cdb3d4a4035a38a8252e1904cf0",
            "875b7aee5f584937ae62172775de2dd9",
            "3c6021af5e3946cf8aab3c80285f14eb",
            "fcc8d7b27e5b4567b5235b03907378d2",
            "790007713ca54acfa6293172921cfe9b",
            "f4ded650de1d46ebbec7a18164a1c0fa",
            "1d98cd9015144a11951438d9766f85d0",
            "0b5ae9acda74473eac13279b502d3ede",
            "3cc3a6885ef344818281f7c2925d69bb",
            "c0ddb2aa45b24375beb3b9652a1b5229",
            "f9be50b512eb4a38b428333a39d37a8b"
          ]
        },
        "id": "HGy9jhv46JDl",
        "outputId": "66415ccf-b76a-4cb7-a972-aaeb580c72e1"
      },
      "outputs": [],
      "source": [
        "# Create a CNN learner using resnet34\n",
        "# Which architecture should we use?: \n",
        "# Check: https://theaisummer.com/cnn-architectures/\n",
        "# According to the previous doc, a priori resnet50 presents higher accuracy than e.g. resnet34, resnet18\n",
        "\n",
        "# A Leaner is a trainer for model using data (dls) to minimize the loss\n",
        "learn = cnn_learner(dls, resnet34, metrics=accuracy)\n",
        "\n",
        "#print(learn.summary()) # Show model layers data \n",
        "\n",
        "#learn.load('effusion_classification_stage-1')\n",
        "# If we have a saved model with the right accuracy, we can load it without having to train it again\n",
        "# We can load a saved model by adding \"learn.load(name of the model)\" after \"learn\" has been initialized\n",
        "# Then we have to comment all the following functions until the Data Augmentation cell\n",
        "# because they had been previously executed on the loaded model"
      ]
    },
    {
      "cell_type": "markdown",
      "metadata": {},
      "source": [
        "### 1st training (without unfreezing)"
      ]
    },
    {
      "cell_type": "code",
      "execution_count": 12,
      "metadata": {},
      "outputs": [
        {
          "data": {
            "text/html": [
              "\n",
              "<style>\n",
              "    /* Turns off some styling */\n",
              "    progress {\n",
              "        /* gets rid of default border in Firefox and Opera. */\n",
              "        border: none;\n",
              "        /* Needs to be in here for Safari polyfill so background images work as expected. */\n",
              "        background-size: auto;\n",
              "    }\n",
              "    .progress-bar-interrupted, .progress-bar-interrupted::-webkit-progress-bar {\n",
              "        background: #F44336;\n",
              "    }\n",
              "</style>\n"
            ],
            "text/plain": [
              "<IPython.core.display.HTML object>"
            ]
          },
          "metadata": {},
          "output_type": "display_data"
        },
        {
          "data": {
            "text/html": [],
            "text/plain": [
              "<IPython.core.display.HTML object>"
            ]
          },
          "metadata": {},
          "output_type": "display_data"
        },
        {
          "data": {
            "text/plain": [
              "SuggestedLRs(valley=0.0014454397605732083)"
            ]
          },
          "execution_count": 12,
          "metadata": {},
          "output_type": "execute_result"
        },
        {
          "data": {
            "image/png": "[encoded data removed]",
            "text/plain": [
              "<Figure size 432x288 with 1 Axes>"
            ]
          },
          "metadata": {
            "needs_background": "light"
          },
          "output_type": "display_data"
        }
      ],
      "source": [
        "# Find a suitable learning rate\n",
        "\n",
        "learn.lr_find()"
      ]
    },
    {
      "cell_type": "code",
      "execution_count": 13,
      "metadata": {},
      "outputs": [
        {
          "data": {
            "text/html": [
              "\n",
              "<style>\n",
              "    /* Turns off some styling */\n",
              "    progress {\n",
              "        /* gets rid of default border in Firefox and Opera. */\n",
              "        border: none;\n",
              "        /* Needs to be in here for Safari polyfill so background images work as expected. */\n",
              "        background-size: auto;\n",
              "    }\n",
              "    .progress-bar-interrupted, .progress-bar-interrupted::-webkit-progress-bar {\n",
              "        background: #F44336;\n",
              "    }\n",
              "</style>\n"
            ],
            "text/plain": [
              "<IPython.core.display.HTML object>"
            ]
          },
          "metadata": {},
          "output_type": "display_data"
        },
        {
          "data": {
            "text/html": [
              "<table border=\"1\" class=\"dataframe\">\n",
              "  <thead>\n",
              "    <tr style=\"text-align: left;\">\n",
              "      <th>epoch</th>\n",
              "      <th>train_loss</th>\n",
              "      <th>valid_loss</th>\n",
              "      <th>accuracy</th>\n",
              "      <th>time</th>\n",
              "    </tr>\n",
              "  </thead>\n",
              "  <tbody>\n",
              "    <tr>\n",
              "      <td>0</td>\n",
              "      <td>1.333856</td>\n",
              "      <td>0.834146</td>\n",
              "      <td>0.550505</td>\n",
              "      <td>00:10</td>\n",
              "    </tr>\n",
              "    <tr>\n",
              "      <td>1</td>\n",
              "      <td>1.250742</td>\n",
              "      <td>0.692663</td>\n",
              "      <td>0.661616</td>\n",
              "      <td>00:10</td>\n",
              "    </tr>\n",
              "    <tr>\n",
              "      <td>2</td>\n",
              "      <td>1.154799</td>\n",
              "      <td>0.760668</td>\n",
              "      <td>0.696970</td>\n",
              "      <td>00:10</td>\n",
              "    </tr>\n",
              "    <tr>\n",
              "      <td>3</td>\n",
              "      <td>1.068530</td>\n",
              "      <td>0.865803</td>\n",
              "      <td>0.656566</td>\n",
              "      <td>00:10</td>\n",
              "    </tr>\n",
              "    <tr>\n",
              "      <td>4</td>\n",
              "      <td>1.003528</td>\n",
              "      <td>0.918133</td>\n",
              "      <td>0.646465</td>\n",
              "      <td>00:10</td>\n",
              "    </tr>\n",
              "    <tr>\n",
              "      <td>5</td>\n",
              "      <td>0.952817</td>\n",
              "      <td>1.001580</td>\n",
              "      <td>0.676768</td>\n",
              "      <td>00:10</td>\n",
              "    </tr>\n",
              "    <tr>\n",
              "      <td>6</td>\n",
              "      <td>0.918185</td>\n",
              "      <td>1.109855</td>\n",
              "      <td>0.641414</td>\n",
              "      <td>00:11</td>\n",
              "    </tr>\n",
              "    <tr>\n",
              "      <td>7</td>\n",
              "      <td>0.911536</td>\n",
              "      <td>1.075223</td>\n",
              "      <td>0.681818</td>\n",
              "      <td>00:10</td>\n",
              "    </tr>\n",
              "    <tr>\n",
              "      <td>8</td>\n",
              "      <td>0.870100</td>\n",
              "      <td>1.229431</td>\n",
              "      <td>0.707071</td>\n",
              "      <td>00:10</td>\n",
              "    </tr>\n",
              "    <tr>\n",
              "      <td>9</td>\n",
              "      <td>0.847030</td>\n",
              "      <td>0.992243</td>\n",
              "      <td>0.707071</td>\n",
              "      <td>00:10</td>\n",
              "    </tr>\n",
              "    <tr>\n",
              "      <td>10</td>\n",
              "      <td>0.813616</td>\n",
              "      <td>1.083115</td>\n",
              "      <td>0.707071</td>\n",
              "      <td>00:10</td>\n",
              "    </tr>\n",
              "    <tr>\n",
              "      <td>11</td>\n",
              "      <td>0.754957</td>\n",
              "      <td>1.075798</td>\n",
              "      <td>0.651515</td>\n",
              "      <td>00:10</td>\n",
              "    </tr>\n",
              "    <tr>\n",
              "      <td>12</td>\n",
              "      <td>0.699953</td>\n",
              "      <td>1.066936</td>\n",
              "      <td>0.717172</td>\n",
              "      <td>00:10</td>\n",
              "    </tr>\n",
              "    <tr>\n",
              "      <td>13</td>\n",
              "      <td>0.646107</td>\n",
              "      <td>1.035905</td>\n",
              "      <td>0.707071</td>\n",
              "      <td>00:10</td>\n",
              "    </tr>\n",
              "    <tr>\n",
              "      <td>14</td>\n",
              "      <td>0.610461</td>\n",
              "      <td>0.988917</td>\n",
              "      <td>0.686869</td>\n",
              "      <td>00:10</td>\n",
              "    </tr>\n",
              "    <tr>\n",
              "      <td>15</td>\n",
              "      <td>0.584950</td>\n",
              "      <td>0.998844</td>\n",
              "      <td>0.681818</td>\n",
              "      <td>00:10</td>\n",
              "    </tr>\n",
              "    <tr>\n",
              "      <td>16</td>\n",
              "      <td>0.541189</td>\n",
              "      <td>1.045001</td>\n",
              "      <td>0.722222</td>\n",
              "      <td>00:10</td>\n",
              "    </tr>\n",
              "    <tr>\n",
              "      <td>17</td>\n",
              "      <td>0.501567</td>\n",
              "      <td>1.059181</td>\n",
              "      <td>0.676768</td>\n",
              "      <td>00:10</td>\n",
              "    </tr>\n",
              "    <tr>\n",
              "      <td>18</td>\n",
              "      <td>0.470101</td>\n",
              "      <td>1.026467</td>\n",
              "      <td>0.691919</td>\n",
              "      <td>00:11</td>\n",
              "    </tr>\n",
              "    <tr>\n",
              "      <td>19</td>\n",
              "      <td>0.445095</td>\n",
              "      <td>1.041536</td>\n",
              "      <td>0.691919</td>\n",
              "      <td>00:10</td>\n",
              "    </tr>\n",
              "    <tr>\n",
              "      <td>20</td>\n",
              "      <td>0.415264</td>\n",
              "      <td>0.983548</td>\n",
              "      <td>0.702020</td>\n",
              "      <td>00:10</td>\n",
              "    </tr>\n",
              "    <tr>\n",
              "      <td>21</td>\n",
              "      <td>0.390357</td>\n",
              "      <td>1.057549</td>\n",
              "      <td>0.712121</td>\n",
              "      <td>00:10</td>\n",
              "    </tr>\n",
              "    <tr>\n",
              "      <td>22</td>\n",
              "      <td>0.370028</td>\n",
              "      <td>0.978028</td>\n",
              "      <td>0.712121</td>\n",
              "      <td>00:10</td>\n",
              "    </tr>\n",
              "    <tr>\n",
              "      <td>23</td>\n",
              "      <td>0.349986</td>\n",
              "      <td>1.002328</td>\n",
              "      <td>0.691919</td>\n",
              "      <td>00:10</td>\n",
              "    </tr>\n",
              "    <tr>\n",
              "      <td>24</td>\n",
              "      <td>0.326259</td>\n",
              "      <td>0.948859</td>\n",
              "      <td>0.712121</td>\n",
              "      <td>00:10</td>\n",
              "    </tr>\n",
              "    <tr>\n",
              "      <td>25</td>\n",
              "      <td>0.307024</td>\n",
              "      <td>0.990016</td>\n",
              "      <td>0.722222</td>\n",
              "      <td>00:10</td>\n",
              "    </tr>\n",
              "    <tr>\n",
              "      <td>26</td>\n",
              "      <td>0.291821</td>\n",
              "      <td>1.011897</td>\n",
              "      <td>0.686869</td>\n",
              "      <td>00:10</td>\n",
              "    </tr>\n",
              "    <tr>\n",
              "      <td>27</td>\n",
              "      <td>0.275904</td>\n",
              "      <td>0.971268</td>\n",
              "      <td>0.691919</td>\n",
              "      <td>00:10</td>\n",
              "    </tr>\n",
              "    <tr>\n",
              "      <td>28</td>\n",
              "      <td>0.266382</td>\n",
              "      <td>1.023671</td>\n",
              "      <td>0.707071</td>\n",
              "      <td>00:10</td>\n",
              "    </tr>\n",
              "    <tr>\n",
              "      <td>29</td>\n",
              "      <td>0.251595</td>\n",
              "      <td>1.033580</td>\n",
              "      <td>0.702020</td>\n",
              "      <td>00:10</td>\n",
              "    </tr>\n",
              "    <tr>\n",
              "      <td>30</td>\n",
              "      <td>0.234993</td>\n",
              "      <td>1.049558</td>\n",
              "      <td>0.696970</td>\n",
              "      <td>00:10</td>\n",
              "    </tr>\n",
              "    <tr>\n",
              "      <td>31</td>\n",
              "      <td>0.228556</td>\n",
              "      <td>1.060853</td>\n",
              "      <td>0.707071</td>\n",
              "      <td>00:10</td>\n",
              "    </tr>\n",
              "    <tr>\n",
              "      <td>32</td>\n",
              "      <td>0.217077</td>\n",
              "      <td>1.047889</td>\n",
              "      <td>0.691919</td>\n",
              "      <td>00:10</td>\n",
              "    </tr>\n",
              "    <tr>\n",
              "      <td>33</td>\n",
              "      <td>0.204213</td>\n",
              "      <td>1.092248</td>\n",
              "      <td>0.722222</td>\n",
              "      <td>00:11</td>\n",
              "    </tr>\n",
              "    <tr>\n",
              "      <td>34</td>\n",
              "      <td>0.199550</td>\n",
              "      <td>1.085099</td>\n",
              "      <td>0.732323</td>\n",
              "      <td>00:10</td>\n",
              "    </tr>\n",
              "    <tr>\n",
              "      <td>35</td>\n",
              "      <td>0.187940</td>\n",
              "      <td>1.016931</td>\n",
              "      <td>0.712121</td>\n",
              "      <td>00:10</td>\n",
              "    </tr>\n",
              "    <tr>\n",
              "      <td>36</td>\n",
              "      <td>0.180165</td>\n",
              "      <td>1.028932</td>\n",
              "      <td>0.722222</td>\n",
              "      <td>00:10</td>\n",
              "    </tr>\n",
              "    <tr>\n",
              "      <td>37</td>\n",
              "      <td>0.175142</td>\n",
              "      <td>1.064954</td>\n",
              "      <td>0.712121</td>\n",
              "      <td>00:10</td>\n",
              "    </tr>\n",
              "    <tr>\n",
              "      <td>38</td>\n",
              "      <td>0.170515</td>\n",
              "      <td>1.080676</td>\n",
              "      <td>0.702020</td>\n",
              "      <td>00:10</td>\n",
              "    </tr>\n",
              "    <tr>\n",
              "      <td>39</td>\n",
              "      <td>0.160394</td>\n",
              "      <td>1.099424</td>\n",
              "      <td>0.717172</td>\n",
              "      <td>00:11</td>\n",
              "    </tr>\n",
              "    <tr>\n",
              "      <td>40</td>\n",
              "      <td>0.155738</td>\n",
              "      <td>1.095804</td>\n",
              "      <td>0.717172</td>\n",
              "      <td>00:10</td>\n",
              "    </tr>\n",
              "    <tr>\n",
              "      <td>41</td>\n",
              "      <td>0.147683</td>\n",
              "      <td>1.096707</td>\n",
              "      <td>0.722222</td>\n",
              "      <td>00:10</td>\n",
              "    </tr>\n",
              "    <tr>\n",
              "      <td>42</td>\n",
              "      <td>0.150459</td>\n",
              "      <td>1.097336</td>\n",
              "      <td>0.727273</td>\n",
              "      <td>00:10</td>\n",
              "    </tr>\n",
              "    <tr>\n",
              "      <td>43</td>\n",
              "      <td>0.153012</td>\n",
              "      <td>1.092619</td>\n",
              "      <td>0.717172</td>\n",
              "      <td>00:10</td>\n",
              "    </tr>\n",
              "    <tr>\n",
              "      <td>44</td>\n",
              "      <td>0.152671</td>\n",
              "      <td>1.105428</td>\n",
              "      <td>0.712121</td>\n",
              "      <td>00:10</td>\n",
              "    </tr>\n",
              "    <tr>\n",
              "      <td>45</td>\n",
              "      <td>0.141486</td>\n",
              "      <td>1.088525</td>\n",
              "      <td>0.712121</td>\n",
              "      <td>00:10</td>\n",
              "    </tr>\n",
              "    <tr>\n",
              "      <td>46</td>\n",
              "      <td>0.141686</td>\n",
              "      <td>1.095283</td>\n",
              "      <td>0.712121</td>\n",
              "      <td>00:10</td>\n",
              "    </tr>\n",
              "    <tr>\n",
              "      <td>47</td>\n",
              "      <td>0.144341</td>\n",
              "      <td>1.100167</td>\n",
              "      <td>0.712121</td>\n",
              "      <td>00:10</td>\n",
              "    </tr>\n",
              "    <tr>\n",
              "      <td>48</td>\n",
              "      <td>0.139792</td>\n",
              "      <td>1.094007</td>\n",
              "      <td>0.712121</td>\n",
              "      <td>00:10</td>\n",
              "    </tr>\n",
              "    <tr>\n",
              "      <td>49</td>\n",
              "      <td>0.136421</td>\n",
              "      <td>1.084555</td>\n",
              "      <td>0.717172</td>\n",
              "      <td>00:10</td>\n",
              "    </tr>\n",
              "  </tbody>\n",
              "</table>"
            ],
            "text/plain": [
              "<IPython.core.display.HTML object>"
            ]
          },
          "metadata": {},
          "output_type": "display_data"
        }
      ],
      "source": [
        "# Train the model using fit_one_cycle\n",
        "\n",
        "learn.fit_one_cycle(50)"
      ]
    },
    {
      "cell_type": "code",
      "execution_count": 14,
      "metadata": {},
      "outputs": [
        {
          "data": {
            "image/png": "[encoded data removed]",
            "text/plain": [
              "<Figure size 432x288 with 1 Axes>"
            ]
          },
          "metadata": {
            "needs_background": "light"
          },
          "output_type": "display_data"
        }
      ],
      "source": [
        "learn.recorder.plot_loss() "
      ]
    },
    {
      "cell_type": "markdown",
      "metadata": {},
      "source": [
        "### 2nd training (unfreeze the network)"
      ]
    },
    {
      "cell_type": "code",
      "execution_count": 15,
      "metadata": {},
      "outputs": [
        {
          "data": {
            "text/html": [
              "\n",
              "<style>\n",
              "    /* Turns off some styling */\n",
              "    progress {\n",
              "        /* gets rid of default border in Firefox and Opera. */\n",
              "        border: none;\n",
              "        /* Needs to be in here for Safari polyfill so background images work as expected. */\n",
              "        background-size: auto;\n",
              "    }\n",
              "    .progress-bar-interrupted, .progress-bar-interrupted::-webkit-progress-bar {\n",
              "        background: #F44336;\n",
              "    }\n",
              "</style>\n"
            ],
            "text/plain": [
              "<IPython.core.display.HTML object>"
            ]
          },
          "metadata": {},
          "output_type": "display_data"
        },
        {
          "data": {
            "text/html": [
              "<table border=\"1\" class=\"dataframe\">\n",
              "  <thead>\n",
              "    <tr style=\"text-align: left;\">\n",
              "      <th>epoch</th>\n",
              "      <th>train_loss</th>\n",
              "      <th>valid_loss</th>\n",
              "      <th>accuracy</th>\n",
              "      <th>time</th>\n",
              "    </tr>\n",
              "  </thead>\n",
              "  <tbody>\n",
              "    <tr>\n",
              "      <td>0</td>\n",
              "      <td>0.183701</td>\n",
              "      <td>1.213258</td>\n",
              "      <td>0.686869</td>\n",
              "      <td>00:12</td>\n",
              "    </tr>\n",
              "    <tr>\n",
              "      <td>1</td>\n",
              "      <td>0.181895</td>\n",
              "      <td>1.251856</td>\n",
              "      <td>0.727273</td>\n",
              "      <td>00:11</td>\n",
              "    </tr>\n",
              "    <tr>\n",
              "      <td>2</td>\n",
              "      <td>0.179818</td>\n",
              "      <td>1.235310</td>\n",
              "      <td>0.732323</td>\n",
              "      <td>00:11</td>\n",
              "    </tr>\n",
              "    <tr>\n",
              "      <td>3</td>\n",
              "      <td>0.170247</td>\n",
              "      <td>1.076089</td>\n",
              "      <td>0.742424</td>\n",
              "      <td>00:11</td>\n",
              "    </tr>\n",
              "    <tr>\n",
              "      <td>4</td>\n",
              "      <td>0.156856</td>\n",
              "      <td>1.532351</td>\n",
              "      <td>0.737374</td>\n",
              "      <td>00:11</td>\n",
              "    </tr>\n",
              "    <tr>\n",
              "      <td>5</td>\n",
              "      <td>0.161418</td>\n",
              "      <td>1.476832</td>\n",
              "      <td>0.752525</td>\n",
              "      <td>00:11</td>\n",
              "    </tr>\n",
              "    <tr>\n",
              "      <td>6</td>\n",
              "      <td>0.172156</td>\n",
              "      <td>1.499449</td>\n",
              "      <td>0.676768</td>\n",
              "      <td>00:11</td>\n",
              "    </tr>\n",
              "    <tr>\n",
              "      <td>7</td>\n",
              "      <td>0.180620</td>\n",
              "      <td>1.281457</td>\n",
              "      <td>0.732323</td>\n",
              "      <td>00:11</td>\n",
              "    </tr>\n",
              "    <tr>\n",
              "      <td>8</td>\n",
              "      <td>0.213530</td>\n",
              "      <td>1.604818</td>\n",
              "      <td>0.757576</td>\n",
              "      <td>00:11</td>\n",
              "    </tr>\n",
              "    <tr>\n",
              "      <td>9</td>\n",
              "      <td>0.223451</td>\n",
              "      <td>2.162407</td>\n",
              "      <td>0.702020</td>\n",
              "      <td>00:11</td>\n",
              "    </tr>\n",
              "    <tr>\n",
              "      <td>10</td>\n",
              "      <td>0.245164</td>\n",
              "      <td>1.977218</td>\n",
              "      <td>0.747475</td>\n",
              "      <td>00:11</td>\n",
              "    </tr>\n",
              "    <tr>\n",
              "      <td>11</td>\n",
              "      <td>0.244369</td>\n",
              "      <td>1.159097</td>\n",
              "      <td>0.747475</td>\n",
              "      <td>00:11</td>\n",
              "    </tr>\n",
              "    <tr>\n",
              "      <td>12</td>\n",
              "      <td>0.236601</td>\n",
              "      <td>1.019836</td>\n",
              "      <td>0.742424</td>\n",
              "      <td>00:11</td>\n",
              "    </tr>\n",
              "    <tr>\n",
              "      <td>13</td>\n",
              "      <td>0.235073</td>\n",
              "      <td>0.869183</td>\n",
              "      <td>0.782828</td>\n",
              "      <td>00:11</td>\n",
              "    </tr>\n",
              "    <tr>\n",
              "      <td>14</td>\n",
              "      <td>0.230193</td>\n",
              "      <td>1.017333</td>\n",
              "      <td>0.757576</td>\n",
              "      <td>00:11</td>\n",
              "    </tr>\n",
              "    <tr>\n",
              "      <td>15</td>\n",
              "      <td>0.229860</td>\n",
              "      <td>1.119994</td>\n",
              "      <td>0.732323</td>\n",
              "      <td>00:11</td>\n",
              "    </tr>\n",
              "    <tr>\n",
              "      <td>16</td>\n",
              "      <td>0.213550</td>\n",
              "      <td>0.799332</td>\n",
              "      <td>0.803030</td>\n",
              "      <td>00:11</td>\n",
              "    </tr>\n",
              "    <tr>\n",
              "      <td>17</td>\n",
              "      <td>0.195834</td>\n",
              "      <td>1.075799</td>\n",
              "      <td>0.737374</td>\n",
              "      <td>00:11</td>\n",
              "    </tr>\n",
              "    <tr>\n",
              "      <td>18</td>\n",
              "      <td>0.194016</td>\n",
              "      <td>1.049117</td>\n",
              "      <td>0.752525</td>\n",
              "      <td>00:11</td>\n",
              "    </tr>\n",
              "    <tr>\n",
              "      <td>19</td>\n",
              "      <td>0.206859</td>\n",
              "      <td>1.899688</td>\n",
              "      <td>0.727273</td>\n",
              "      <td>00:11</td>\n",
              "    </tr>\n",
              "    <tr>\n",
              "      <td>20</td>\n",
              "      <td>0.210696</td>\n",
              "      <td>1.868295</td>\n",
              "      <td>0.590909</td>\n",
              "      <td>00:11</td>\n",
              "    </tr>\n",
              "    <tr>\n",
              "      <td>21</td>\n",
              "      <td>0.221437</td>\n",
              "      <td>0.880813</td>\n",
              "      <td>0.696970</td>\n",
              "      <td>00:11</td>\n",
              "    </tr>\n",
              "    <tr>\n",
              "      <td>22</td>\n",
              "      <td>0.217731</td>\n",
              "      <td>0.706226</td>\n",
              "      <td>0.777778</td>\n",
              "      <td>00:11</td>\n",
              "    </tr>\n",
              "    <tr>\n",
              "      <td>23</td>\n",
              "      <td>0.208160</td>\n",
              "      <td>0.956168</td>\n",
              "      <td>0.777778</td>\n",
              "      <td>00:11</td>\n",
              "    </tr>\n",
              "    <tr>\n",
              "      <td>24</td>\n",
              "      <td>0.203020</td>\n",
              "      <td>1.105766</td>\n",
              "      <td>0.803030</td>\n",
              "      <td>00:11</td>\n",
              "    </tr>\n",
              "    <tr>\n",
              "      <td>25</td>\n",
              "      <td>0.190497</td>\n",
              "      <td>0.934806</td>\n",
              "      <td>0.762626</td>\n",
              "      <td>00:11</td>\n",
              "    </tr>\n",
              "    <tr>\n",
              "      <td>26</td>\n",
              "      <td>0.176440</td>\n",
              "      <td>0.745855</td>\n",
              "      <td>0.787879</td>\n",
              "      <td>00:11</td>\n",
              "    </tr>\n",
              "    <tr>\n",
              "      <td>27</td>\n",
              "      <td>0.162475</td>\n",
              "      <td>1.249313</td>\n",
              "      <td>0.712121</td>\n",
              "      <td>00:11</td>\n",
              "    </tr>\n",
              "    <tr>\n",
              "      <td>28</td>\n",
              "      <td>0.172055</td>\n",
              "      <td>1.292184</td>\n",
              "      <td>0.722222</td>\n",
              "      <td>00:11</td>\n",
              "    </tr>\n",
              "    <tr>\n",
              "      <td>29</td>\n",
              "      <td>0.174026</td>\n",
              "      <td>0.749137</td>\n",
              "      <td>0.722222</td>\n",
              "      <td>00:11</td>\n",
              "    </tr>\n",
              "    <tr>\n",
              "      <td>30</td>\n",
              "      <td>0.172466</td>\n",
              "      <td>0.818802</td>\n",
              "      <td>0.752525</td>\n",
              "      <td>00:11</td>\n",
              "    </tr>\n",
              "    <tr>\n",
              "      <td>31</td>\n",
              "      <td>0.175425</td>\n",
              "      <td>0.854534</td>\n",
              "      <td>0.762626</td>\n",
              "      <td>00:11</td>\n",
              "    </tr>\n",
              "    <tr>\n",
              "      <td>32</td>\n",
              "      <td>0.177697</td>\n",
              "      <td>0.828960</td>\n",
              "      <td>0.747475</td>\n",
              "      <td>00:11</td>\n",
              "    </tr>\n",
              "    <tr>\n",
              "      <td>33</td>\n",
              "      <td>0.164933</td>\n",
              "      <td>0.741838</td>\n",
              "      <td>0.762626</td>\n",
              "      <td>00:11</td>\n",
              "    </tr>\n",
              "    <tr>\n",
              "      <td>34</td>\n",
              "      <td>0.152763</td>\n",
              "      <td>1.099877</td>\n",
              "      <td>0.762626</td>\n",
              "      <td>00:11</td>\n",
              "    </tr>\n",
              "    <tr>\n",
              "      <td>35</td>\n",
              "      <td>0.150646</td>\n",
              "      <td>1.357666</td>\n",
              "      <td>0.757576</td>\n",
              "      <td>00:11</td>\n",
              "    </tr>\n",
              "    <tr>\n",
              "      <td>36</td>\n",
              "      <td>0.135093</td>\n",
              "      <td>1.063295</td>\n",
              "      <td>0.707071</td>\n",
              "      <td>00:11</td>\n",
              "    </tr>\n",
              "    <tr>\n",
              "      <td>37</td>\n",
              "      <td>0.136498</td>\n",
              "      <td>1.405180</td>\n",
              "      <td>0.681818</td>\n",
              "      <td>00:11</td>\n",
              "    </tr>\n",
              "    <tr>\n",
              "      <td>38</td>\n",
              "      <td>0.157516</td>\n",
              "      <td>2.154100</td>\n",
              "      <td>0.712121</td>\n",
              "      <td>00:11</td>\n",
              "    </tr>\n",
              "    <tr>\n",
              "      <td>39</td>\n",
              "      <td>0.173607</td>\n",
              "      <td>0.755162</td>\n",
              "      <td>0.727273</td>\n",
              "      <td>00:11</td>\n",
              "    </tr>\n",
              "    <tr>\n",
              "      <td>40</td>\n",
              "      <td>0.166012</td>\n",
              "      <td>0.825137</td>\n",
              "      <td>0.757576</td>\n",
              "      <td>00:11</td>\n",
              "    </tr>\n",
              "    <tr>\n",
              "      <td>41</td>\n",
              "      <td>0.151949</td>\n",
              "      <td>0.957042</td>\n",
              "      <td>0.696970</td>\n",
              "      <td>00:11</td>\n",
              "    </tr>\n",
              "    <tr>\n",
              "      <td>42</td>\n",
              "      <td>0.145894</td>\n",
              "      <td>1.127001</td>\n",
              "      <td>0.767677</td>\n",
              "      <td>00:11</td>\n",
              "    </tr>\n",
              "    <tr>\n",
              "      <td>43</td>\n",
              "      <td>0.145327</td>\n",
              "      <td>0.628697</td>\n",
              "      <td>0.808081</td>\n",
              "      <td>00:11</td>\n",
              "    </tr>\n",
              "    <tr>\n",
              "      <td>44</td>\n",
              "      <td>0.142074</td>\n",
              "      <td>0.844443</td>\n",
              "      <td>0.757576</td>\n",
              "      <td>00:11</td>\n",
              "    </tr>\n",
              "    <tr>\n",
              "      <td>45</td>\n",
              "      <td>0.133485</td>\n",
              "      <td>1.244358</td>\n",
              "      <td>0.671717</td>\n",
              "      <td>00:11</td>\n",
              "    </tr>\n",
              "    <tr>\n",
              "      <td>46</td>\n",
              "      <td>0.130591</td>\n",
              "      <td>0.903046</td>\n",
              "      <td>0.752525</td>\n",
              "      <td>00:11</td>\n",
              "    </tr>\n",
              "    <tr>\n",
              "      <td>47</td>\n",
              "      <td>0.123449</td>\n",
              "      <td>1.270504</td>\n",
              "      <td>0.757576</td>\n",
              "      <td>00:11</td>\n",
              "    </tr>\n",
              "    <tr>\n",
              "      <td>48</td>\n",
              "      <td>0.115808</td>\n",
              "      <td>0.841545</td>\n",
              "      <td>0.777778</td>\n",
              "      <td>00:11</td>\n",
              "    </tr>\n",
              "    <tr>\n",
              "      <td>49</td>\n",
              "      <td>0.106671</td>\n",
              "      <td>1.417177</td>\n",
              "      <td>0.691919</td>\n",
              "      <td>00:11</td>\n",
              "    </tr>\n",
              "    <tr>\n",
              "      <td>50</td>\n",
              "      <td>0.099579</td>\n",
              "      <td>1.003816</td>\n",
              "      <td>0.732323</td>\n",
              "      <td>00:11</td>\n",
              "    </tr>\n",
              "    <tr>\n",
              "      <td>51</td>\n",
              "      <td>0.101558</td>\n",
              "      <td>0.921733</td>\n",
              "      <td>0.767677</td>\n",
              "      <td>00:11</td>\n",
              "    </tr>\n",
              "    <tr>\n",
              "      <td>52</td>\n",
              "      <td>0.098038</td>\n",
              "      <td>1.107648</td>\n",
              "      <td>0.747475</td>\n",
              "      <td>00:11</td>\n",
              "    </tr>\n",
              "    <tr>\n",
              "      <td>53</td>\n",
              "      <td>0.095573</td>\n",
              "      <td>0.981987</td>\n",
              "      <td>0.767677</td>\n",
              "      <td>00:11</td>\n",
              "    </tr>\n",
              "    <tr>\n",
              "      <td>54</td>\n",
              "      <td>0.090508</td>\n",
              "      <td>0.901608</td>\n",
              "      <td>0.782828</td>\n",
              "      <td>00:11</td>\n",
              "    </tr>\n",
              "    <tr>\n",
              "      <td>55</td>\n",
              "      <td>0.084168</td>\n",
              "      <td>1.214740</td>\n",
              "      <td>0.712121</td>\n",
              "      <td>00:11</td>\n",
              "    </tr>\n",
              "    <tr>\n",
              "      <td>56</td>\n",
              "      <td>0.084489</td>\n",
              "      <td>0.860426</td>\n",
              "      <td>0.803030</td>\n",
              "      <td>00:11</td>\n",
              "    </tr>\n",
              "    <tr>\n",
              "      <td>57</td>\n",
              "      <td>0.079311</td>\n",
              "      <td>0.874637</td>\n",
              "      <td>0.782828</td>\n",
              "      <td>00:11</td>\n",
              "    </tr>\n",
              "    <tr>\n",
              "      <td>58</td>\n",
              "      <td>0.071771</td>\n",
              "      <td>1.167779</td>\n",
              "      <td>0.777778</td>\n",
              "      <td>00:12</td>\n",
              "    </tr>\n",
              "    <tr>\n",
              "      <td>59</td>\n",
              "      <td>0.070361</td>\n",
              "      <td>1.003509</td>\n",
              "      <td>0.732323</td>\n",
              "      <td>00:12</td>\n",
              "    </tr>\n",
              "    <tr>\n",
              "      <td>60</td>\n",
              "      <td>0.069862</td>\n",
              "      <td>1.461977</td>\n",
              "      <td>0.747475</td>\n",
              "      <td>00:11</td>\n",
              "    </tr>\n",
              "    <tr>\n",
              "      <td>61</td>\n",
              "      <td>0.064419</td>\n",
              "      <td>1.370000</td>\n",
              "      <td>0.762626</td>\n",
              "      <td>00:11</td>\n",
              "    </tr>\n",
              "    <tr>\n",
              "      <td>62</td>\n",
              "      <td>0.057527</td>\n",
              "      <td>0.972342</td>\n",
              "      <td>0.818182</td>\n",
              "      <td>00:11</td>\n",
              "    </tr>\n",
              "    <tr>\n",
              "      <td>63</td>\n",
              "      <td>0.052480</td>\n",
              "      <td>1.141423</td>\n",
              "      <td>0.792929</td>\n",
              "      <td>00:11</td>\n",
              "    </tr>\n",
              "    <tr>\n",
              "      <td>64</td>\n",
              "      <td>0.046712</td>\n",
              "      <td>1.165354</td>\n",
              "      <td>0.797980</td>\n",
              "      <td>00:11</td>\n",
              "    </tr>\n",
              "    <tr>\n",
              "      <td>65</td>\n",
              "      <td>0.045206</td>\n",
              "      <td>1.064258</td>\n",
              "      <td>0.782828</td>\n",
              "      <td>00:11</td>\n",
              "    </tr>\n",
              "    <tr>\n",
              "      <td>66</td>\n",
              "      <td>0.042307</td>\n",
              "      <td>1.356754</td>\n",
              "      <td>0.757576</td>\n",
              "      <td>00:11</td>\n",
              "    </tr>\n",
              "    <tr>\n",
              "      <td>67</td>\n",
              "      <td>0.038753</td>\n",
              "      <td>1.029170</td>\n",
              "      <td>0.762626</td>\n",
              "      <td>00:11</td>\n",
              "    </tr>\n",
              "    <tr>\n",
              "      <td>68</td>\n",
              "      <td>0.034983</td>\n",
              "      <td>1.000068</td>\n",
              "      <td>0.767677</td>\n",
              "      <td>00:11</td>\n",
              "    </tr>\n",
              "    <tr>\n",
              "      <td>69</td>\n",
              "      <td>0.036073</td>\n",
              "      <td>1.280174</td>\n",
              "      <td>0.767677</td>\n",
              "      <td>00:11</td>\n",
              "    </tr>\n",
              "    <tr>\n",
              "      <td>70</td>\n",
              "      <td>0.033244</td>\n",
              "      <td>1.254628</td>\n",
              "      <td>0.772727</td>\n",
              "      <td>00:11</td>\n",
              "    </tr>\n",
              "    <tr>\n",
              "      <td>71</td>\n",
              "      <td>0.030310</td>\n",
              "      <td>1.193231</td>\n",
              "      <td>0.762626</td>\n",
              "      <td>00:11</td>\n",
              "    </tr>\n",
              "    <tr>\n",
              "      <td>72</td>\n",
              "      <td>0.027418</td>\n",
              "      <td>1.150200</td>\n",
              "      <td>0.797980</td>\n",
              "      <td>00:11</td>\n",
              "    </tr>\n",
              "    <tr>\n",
              "      <td>73</td>\n",
              "      <td>0.024376</td>\n",
              "      <td>1.380825</td>\n",
              "      <td>0.757576</td>\n",
              "      <td>00:11</td>\n",
              "    </tr>\n",
              "    <tr>\n",
              "      <td>74</td>\n",
              "      <td>0.024121</td>\n",
              "      <td>1.383001</td>\n",
              "      <td>0.767677</td>\n",
              "      <td>00:11</td>\n",
              "    </tr>\n",
              "    <tr>\n",
              "      <td>75</td>\n",
              "      <td>0.025395</td>\n",
              "      <td>1.188866</td>\n",
              "      <td>0.782828</td>\n",
              "      <td>00:11</td>\n",
              "    </tr>\n",
              "    <tr>\n",
              "      <td>76</td>\n",
              "      <td>0.024697</td>\n",
              "      <td>1.242013</td>\n",
              "      <td>0.777778</td>\n",
              "      <td>00:11</td>\n",
              "    </tr>\n",
              "    <tr>\n",
              "      <td>77</td>\n",
              "      <td>0.022320</td>\n",
              "      <td>1.214020</td>\n",
              "      <td>0.782828</td>\n",
              "      <td>00:11</td>\n",
              "    </tr>\n",
              "    <tr>\n",
              "      <td>78</td>\n",
              "      <td>0.018979</td>\n",
              "      <td>1.269595</td>\n",
              "      <td>0.792929</td>\n",
              "      <td>00:11</td>\n",
              "    </tr>\n",
              "    <tr>\n",
              "      <td>79</td>\n",
              "      <td>0.019253</td>\n",
              "      <td>1.248750</td>\n",
              "      <td>0.757576</td>\n",
              "      <td>00:11</td>\n",
              "    </tr>\n",
              "    <tr>\n",
              "      <td>80</td>\n",
              "      <td>0.017370</td>\n",
              "      <td>1.305766</td>\n",
              "      <td>0.757576</td>\n",
              "      <td>00:11</td>\n",
              "    </tr>\n",
              "    <tr>\n",
              "      <td>81</td>\n",
              "      <td>0.016126</td>\n",
              "      <td>1.325256</td>\n",
              "      <td>0.772727</td>\n",
              "      <td>00:11</td>\n",
              "    </tr>\n",
              "    <tr>\n",
              "      <td>82</td>\n",
              "      <td>0.013909</td>\n",
              "      <td>1.344865</td>\n",
              "      <td>0.762626</td>\n",
              "      <td>00:11</td>\n",
              "    </tr>\n",
              "    <tr>\n",
              "      <td>83</td>\n",
              "      <td>0.012080</td>\n",
              "      <td>1.329397</td>\n",
              "      <td>0.767677</td>\n",
              "      <td>00:11</td>\n",
              "    </tr>\n",
              "    <tr>\n",
              "      <td>84</td>\n",
              "      <td>0.011750</td>\n",
              "      <td>1.296633</td>\n",
              "      <td>0.767677</td>\n",
              "      <td>00:11</td>\n",
              "    </tr>\n",
              "    <tr>\n",
              "      <td>85</td>\n",
              "      <td>0.010175</td>\n",
              "      <td>1.280898</td>\n",
              "      <td>0.772727</td>\n",
              "      <td>00:11</td>\n",
              "    </tr>\n",
              "    <tr>\n",
              "      <td>86</td>\n",
              "      <td>0.011037</td>\n",
              "      <td>1.258496</td>\n",
              "      <td>0.782828</td>\n",
              "      <td>00:11</td>\n",
              "    </tr>\n",
              "    <tr>\n",
              "      <td>87</td>\n",
              "      <td>0.009241</td>\n",
              "      <td>1.248179</td>\n",
              "      <td>0.782828</td>\n",
              "      <td>00:11</td>\n",
              "    </tr>\n",
              "    <tr>\n",
              "      <td>88</td>\n",
              "      <td>0.007739</td>\n",
              "      <td>1.262161</td>\n",
              "      <td>0.772727</td>\n",
              "      <td>00:11</td>\n",
              "    </tr>\n",
              "    <tr>\n",
              "      <td>89</td>\n",
              "      <td>0.006646</td>\n",
              "      <td>1.286682</td>\n",
              "      <td>0.797980</td>\n",
              "      <td>00:11</td>\n",
              "    </tr>\n",
              "    <tr>\n",
              "      <td>90</td>\n",
              "      <td>0.005662</td>\n",
              "      <td>1.294625</td>\n",
              "      <td>0.787879</td>\n",
              "      <td>00:11</td>\n",
              "    </tr>\n",
              "    <tr>\n",
              "      <td>91</td>\n",
              "      <td>0.005297</td>\n",
              "      <td>1.282721</td>\n",
              "      <td>0.792929</td>\n",
              "      <td>00:11</td>\n",
              "    </tr>\n",
              "    <tr>\n",
              "      <td>92</td>\n",
              "      <td>0.005306</td>\n",
              "      <td>1.269395</td>\n",
              "      <td>0.777778</td>\n",
              "      <td>00:11</td>\n",
              "    </tr>\n",
              "    <tr>\n",
              "      <td>93</td>\n",
              "      <td>0.005453</td>\n",
              "      <td>1.251780</td>\n",
              "      <td>0.777778</td>\n",
              "      <td>00:11</td>\n",
              "    </tr>\n",
              "    <tr>\n",
              "      <td>94</td>\n",
              "      <td>0.005325</td>\n",
              "      <td>1.239498</td>\n",
              "      <td>0.782828</td>\n",
              "      <td>00:11</td>\n",
              "    </tr>\n",
              "    <tr>\n",
              "      <td>95</td>\n",
              "      <td>0.005457</td>\n",
              "      <td>1.237786</td>\n",
              "      <td>0.777778</td>\n",
              "      <td>00:11</td>\n",
              "    </tr>\n",
              "    <tr>\n",
              "      <td>96</td>\n",
              "      <td>0.004954</td>\n",
              "      <td>1.224869</td>\n",
              "      <td>0.777778</td>\n",
              "      <td>00:11</td>\n",
              "    </tr>\n",
              "    <tr>\n",
              "      <td>97</td>\n",
              "      <td>0.004326</td>\n",
              "      <td>1.254282</td>\n",
              "      <td>0.782828</td>\n",
              "      <td>00:11</td>\n",
              "    </tr>\n",
              "    <tr>\n",
              "      <td>98</td>\n",
              "      <td>0.004865</td>\n",
              "      <td>1.251902</td>\n",
              "      <td>0.777778</td>\n",
              "      <td>00:11</td>\n",
              "    </tr>\n",
              "    <tr>\n",
              "      <td>99</td>\n",
              "      <td>0.004207</td>\n",
              "      <td>1.243768</td>\n",
              "      <td>0.777778</td>\n",
              "      <td>00:11</td>\n",
              "    </tr>\n",
              "  </tbody>\n",
              "</table>"
            ],
            "text/plain": [
              "<IPython.core.display.HTML object>"
            ]
          },
          "metadata": {},
          "output_type": "display_data"
        }
      ],
      "source": [
        "# Now we can unfreeze the network and train the whole network\n",
        "\n",
        "learn.unfreeze()\n",
        "learn.fit_one_cycle(100)"
      ]
    },
    {
      "cell_type": "code",
      "execution_count": 16,
      "metadata": {
        "colab": {
          "base_uri": "https://localhost:8080/",
          "height": 265
        },
        "id": "SF0HN9SV6JDm",
        "outputId": "25747139-147b-4588-a372-e5724ba9682d"
      },
      "outputs": [
        {
          "data": {
            "image/png": "[encoded data removed]",
            "text/plain": [
              "<Figure size 432x288 with 1 Axes>"
            ]
          },
          "metadata": {
            "needs_background": "light"
          },
          "output_type": "display_data"
        }
      ],
      "source": [
        "# Plot losses \n",
        "\n",
        "# If the model has been trained correctly train loss must be lower than validation loss.\n",
        "\n",
        "learn.recorder.plot_loss() \n",
        "# X axis refers to the number of epochs \n",
        "# Y axis refers to the losses "
      ]
    },
    {
      "cell_type": "code",
      "execution_count": 17,
      "metadata": {
        "colab": {
          "base_uri": "https://localhost:8080/"
        },
        "id": "Fz0wI9BY6JDn",
        "outputId": "0dc42dd5-32bf-4b58-af50-ffa6bfdf8cdc"
      },
      "outputs": [
        {
          "data": {
            "text/plain": [
              "Path('models/effusion_classification_stage-1.pth')"
            ]
          },
          "execution_count": 17,
          "metadata": {},
          "output_type": "execute_result"
        }
      ],
      "source": [
        "# Save the model \n",
        "learn.save('effusion_classification_stage-1')\n",
        "# The file gets stored at the models folder that is a new folder created inside the dataset folder \n",
        "\n",
        "# We can load this model after \"learn\" is initialized by calling to \"learn.load(roi_detector_stage-1)\""
      ]
    },
    {
      "cell_type": "code",
      "execution_count": 18,
      "metadata": {
        "id": "vAfvHusf6JDn"
      },
      "outputs": [],
      "source": [
        "# Use export function to save the Learner in dataset path/fname, using pickle_protocol. \n",
        "# Note that serialization in Python saves the names of functions, not the code itself. \n",
        "# Therefore, any custom code you have for models, data transformation, loss function etc... \n",
        "# should be put in a module that you will import in your training environment before exporting, \n",
        "# and in your deployment environment before loading it.\n",
        "learn.export('trained_effusion_classif_export.pkl') # NOTE: what type of program can open a pkl file?\n",
        "# The file gets stored at the dataset folder "
      ]
    },
    {
      "cell_type": "markdown",
      "metadata": {},
      "source": [
        "## Prediction"
      ]
    },
    {
      "cell_type": "code",
      "execution_count": 19,
      "metadata": {},
      "outputs": [
        {
          "data": {
            "text/html": [
              "\n",
              "<style>\n",
              "    /* Turns off some styling */\n",
              "    progress {\n",
              "        /* gets rid of default border in Firefox and Opera. */\n",
              "        border: none;\n",
              "        /* Needs to be in here for Safari polyfill so background images work as expected. */\n",
              "        background-size: auto;\n",
              "    }\n",
              "    .progress-bar-interrupted, .progress-bar-interrupted::-webkit-progress-bar {\n",
              "        background: #F44336;\n",
              "    }\n",
              "</style>\n"
            ],
            "text/plain": [
              "<IPython.core.display.HTML object>"
            ]
          },
          "metadata": {},
          "output_type": "display_data"
        },
        {
          "data": {
            "text/html": [],
            "text/plain": [
              "<IPython.core.display.HTML object>"
            ]
          },
          "metadata": {},
          "output_type": "display_data"
        },
        {
          "data": {
            "text/html": [
              "\n",
              "<style>\n",
              "    /* Turns off some styling */\n",
              "    progress {\n",
              "        /* gets rid of default border in Firefox and Opera. */\n",
              "        border: none;\n",
              "        /* Needs to be in here for Safari polyfill so background images work as expected. */\n",
              "        background-size: auto;\n",
              "    }\n",
              "    .progress-bar-interrupted, .progress-bar-interrupted::-webkit-progress-bar {\n",
              "        background: #F44336;\n",
              "    }\n",
              "</style>\n"
            ],
            "text/plain": [
              "<IPython.core.display.HTML object>"
            ]
          },
          "metadata": {},
          "output_type": "display_data"
        },
        {
          "data": {
            "text/html": [],
            "text/plain": [
              "<IPython.core.display.HTML object>"
            ]
          },
          "metadata": {},
          "output_type": "display_data"
        },
        {
          "data": {
            "text/html": [
              "\n",
              "<style>\n",
              "    /* Turns off some styling */\n",
              "    progress {\n",
              "        /* gets rid of default border in Firefox and Opera. */\n",
              "        border: none;\n",
              "        /* Needs to be in here for Safari polyfill so background images work as expected. */\n",
              "        background-size: auto;\n",
              "    }\n",
              "    .progress-bar-interrupted, .progress-bar-interrupted::-webkit-progress-bar {\n",
              "        background: #F44336;\n",
              "    }\n",
              "</style>\n"
            ],
            "text/plain": [
              "<IPython.core.display.HTML object>"
            ]
          },
          "metadata": {},
          "output_type": "display_data"
        },
        {
          "data": {
            "text/html": [],
            "text/plain": [
              "<IPython.core.display.HTML object>"
            ]
          },
          "metadata": {},
          "output_type": "display_data"
        },
        {
          "data": {
            "text/html": [
              "\n",
              "<style>\n",
              "    /* Turns off some styling */\n",
              "    progress {\n",
              "        /* gets rid of default border in Firefox and Opera. */\n",
              "        border: none;\n",
              "        /* Needs to be in here for Safari polyfill so background images work as expected. */\n",
              "        background-size: auto;\n",
              "    }\n",
              "    .progress-bar-interrupted, .progress-bar-interrupted::-webkit-progress-bar {\n",
              "        background: #F44336;\n",
              "    }\n",
              "</style>\n"
            ],
            "text/plain": [
              "<IPython.core.display.HTML object>"
            ]
          },
          "metadata": {},
          "output_type": "display_data"
        },
        {
          "data": {
            "text/html": [],
            "text/plain": [
              "<IPython.core.display.HTML object>"
            ]
          },
          "metadata": {},
          "output_type": "display_data"
        },
        {
          "data": {
            "text/html": [
              "\n",
              "<style>\n",
              "    /* Turns off some styling */\n",
              "    progress {\n",
              "        /* gets rid of default border in Firefox and Opera. */\n",
              "        border: none;\n",
              "        /* Needs to be in here for Safari polyfill so background images work as expected. */\n",
              "        background-size: auto;\n",
              "    }\n",
              "    .progress-bar-interrupted, .progress-bar-interrupted::-webkit-progress-bar {\n",
              "        background: #F44336;\n",
              "    }\n",
              "</style>\n"
            ],
            "text/plain": [
              "<IPython.core.display.HTML object>"
            ]
          },
          "metadata": {},
          "output_type": "display_data"
        },
        {
          "data": {
            "text/html": [],
            "text/plain": [
              "<IPython.core.display.HTML object>"
            ]
          },
          "metadata": {},
          "output_type": "display_data"
        },
        {
          "data": {
            "text/html": [
              "\n",
              "<style>\n",
              "    /* Turns off some styling */\n",
              "    progress {\n",
              "        /* gets rid of default border in Firefox and Opera. */\n",
              "        border: none;\n",
              "        /* Needs to be in here for Safari polyfill so background images work as expected. */\n",
              "        background-size: auto;\n",
              "    }\n",
              "    .progress-bar-interrupted, .progress-bar-interrupted::-webkit-progress-bar {\n",
              "        background: #F44336;\n",
              "    }\n",
              "</style>\n"
            ],
            "text/plain": [
              "<IPython.core.display.HTML object>"
            ]
          },
          "metadata": {},
          "output_type": "display_data"
        },
        {
          "data": {
            "text/html": [],
            "text/plain": [
              "<IPython.core.display.HTML object>"
            ]
          },
          "metadata": {},
          "output_type": "display_data"
        },
        {
          "data": {
            "text/html": [
              "\n",
              "<style>\n",
              "    /* Turns off some styling */\n",
              "    progress {\n",
              "        /* gets rid of default border in Firefox and Opera. */\n",
              "        border: none;\n",
              "        /* Needs to be in here for Safari polyfill so background images work as expected. */\n",
              "        background-size: auto;\n",
              "    }\n",
              "    .progress-bar-interrupted, .progress-bar-interrupted::-webkit-progress-bar {\n",
              "        background: #F44336;\n",
              "    }\n",
              "</style>\n"
            ],
            "text/plain": [
              "<IPython.core.display.HTML object>"
            ]
          },
          "metadata": {},
          "output_type": "display_data"
        },
        {
          "data": {
            "text/html": [],
            "text/plain": [
              "<IPython.core.display.HTML object>"
            ]
          },
          "metadata": {},
          "output_type": "display_data"
        },
        {
          "data": {
            "text/html": [
              "\n",
              "<style>\n",
              "    /* Turns off some styling */\n",
              "    progress {\n",
              "        /* gets rid of default border in Firefox and Opera. */\n",
              "        border: none;\n",
              "        /* Needs to be in here for Safari polyfill so background images work as expected. */\n",
              "        background-size: auto;\n",
              "    }\n",
              "    .progress-bar-interrupted, .progress-bar-interrupted::-webkit-progress-bar {\n",
              "        background: #F44336;\n",
              "    }\n",
              "</style>\n"
            ],
            "text/plain": [
              "<IPython.core.display.HTML object>"
            ]
          },
          "metadata": {},
          "output_type": "display_data"
        },
        {
          "data": {
            "text/html": [],
            "text/plain": [
              "<IPython.core.display.HTML object>"
            ]
          },
          "metadata": {},
          "output_type": "display_data"
        },
        {
          "data": {
            "text/html": [
              "\n",
              "<style>\n",
              "    /* Turns off some styling */\n",
              "    progress {\n",
              "        /* gets rid of default border in Firefox and Opera. */\n",
              "        border: none;\n",
              "        /* Needs to be in here for Safari polyfill so background images work as expected. */\n",
              "        background-size: auto;\n",
              "    }\n",
              "    .progress-bar-interrupted, .progress-bar-interrupted::-webkit-progress-bar {\n",
              "        background: #F44336;\n",
              "    }\n",
              "</style>\n"
            ],
            "text/plain": [
              "<IPython.core.display.HTML object>"
            ]
          },
          "metadata": {},
          "output_type": "display_data"
        },
        {
          "data": {
            "text/html": [],
            "text/plain": [
              "<IPython.core.display.HTML object>"
            ]
          },
          "metadata": {},
          "output_type": "display_data"
        },
        {
          "data": {
            "text/html": [
              "\n",
              "<style>\n",
              "    /* Turns off some styling */\n",
              "    progress {\n",
              "        /* gets rid of default border in Firefox and Opera. */\n",
              "        border: none;\n",
              "        /* Needs to be in here for Safari polyfill so background images work as expected. */\n",
              "        background-size: auto;\n",
              "    }\n",
              "    .progress-bar-interrupted, .progress-bar-interrupted::-webkit-progress-bar {\n",
              "        background: #F44336;\n",
              "    }\n",
              "</style>\n"
            ],
            "text/plain": [
              "<IPython.core.display.HTML object>"
            ]
          },
          "metadata": {},
          "output_type": "display_data"
        },
        {
          "data": {
            "text/html": [],
            "text/plain": [
              "<IPython.core.display.HTML object>"
            ]
          },
          "metadata": {},
          "output_type": "display_data"
        },
        {
          "data": {
            "image/png": "[encoded data removed]",
            "text/plain": [
              "<Figure size 432x432 with 4 Axes>"
            ]
          },
          "metadata": {
            "needs_background": "light"
          },
          "output_type": "display_data"
        },
        {
          "data": {
            "image/png": "[encoded data removed]",
            "text/plain": [
              "<Figure size 432x432 with 4 Axes>"
            ]
          },
          "metadata": {
            "needs_background": "light"
          },
          "output_type": "display_data"
        }
      ],
      "source": [
        "effusionTestPath = \"dataset/validation/effusion/\"\n",
        "normalTestPath = \"dataset/validation/normal/\"\n",
        "\n",
        "effusionTestImages = [testImage for testImage in os.listdir(effusionTestPath)]\n",
        "normalTestImages = [testImage for testImage in os.listdir(normalTestPath)]\n",
        "\n",
        "for effusionImage in effusionTestImages:\n",
        "    imagePath = effusionTestPath + effusionImage\n",
        "    learn.predict(imagePath) # NOTE: Try to make output disappear\n",
        "\n",
        "# When predicting on an image learn.predict returns a tuple (class, class tensor and [probabilities of each class]).\n",
        "# In this dataset there are only 2 classes \"normal\" and \"effusion\" hence the reason why each probability has 2 values,\n",
        "# the first value is the probability whether the image belongs to class 0 or \"effusion\" and the second value is the probability \n",
        "# whether the image belongs to class 1 or \"normal\"\n",
        "\n",
        "# Show the predictions results based on the effusion test images\n",
        "learn.show_results(max_n=4) # max_n=4 because we have stored 4 effusion test images\n",
        "\n",
        "\n",
        "for normalImage in normalTestImages:\n",
        "    imagePath = normalTestPath + normalImage\n",
        "    learn.predict(imagePath)\n",
        "\n",
        "# Show the predictions results based on the effusion test images\n",
        "learn.show_results(max_n=4) # max_n=4 because we have stored 4 normal test images\n",
        "\n",
        "# 8 test images were given and according to the following output\n",
        "# 6 predictions are right and 2 are wrong (6/8 = 75% accuracy) "
      ]
    },
    {
      "cell_type": "markdown",
      "metadata": {},
      "source": [
        "## Interpretation"
      ]
    },
    {
      "cell_type": "code",
      "execution_count": 20,
      "metadata": {},
      "outputs": [
        {
          "data": {
            "text/html": [
              "\n",
              "<style>\n",
              "    /* Turns off some styling */\n",
              "    progress {\n",
              "        /* gets rid of default border in Firefox and Opera. */\n",
              "        border: none;\n",
              "        /* Needs to be in here for Safari polyfill so background images work as expected. */\n",
              "        background-size: auto;\n",
              "    }\n",
              "    .progress-bar-interrupted, .progress-bar-interrupted::-webkit-progress-bar {\n",
              "        background: #F44336;\n",
              "    }\n",
              "</style>\n"
            ],
            "text/plain": [
              "<IPython.core.display.HTML object>"
            ]
          },
          "metadata": {},
          "output_type": "display_data"
        },
        {
          "data": {
            "text/html": [],
            "text/plain": [
              "<IPython.core.display.HTML object>"
            ]
          },
          "metadata": {},
          "output_type": "display_data"
        },
        {
          "data": {
            "image/png": "[encoded data removed]",
            "text/plain": [
              "<Figure size 504x504 with 1 Axes>"
            ]
          },
          "metadata": {
            "needs_background": "light"
          },
          "output_type": "display_data"
        }
      ],
      "source": [
        "# Plot a confusion matrix \n",
        "\n",
        "interp = ClassificationInterpretation.from_learner(learn)\n",
        "interp.plot_confusion_matrix(figsize=(7,7))"
      ]
    },
    {
      "cell_type": "code",
      "execution_count": 21,
      "metadata": {},
      "outputs": [
        {
          "data": {
            "text/plain": [
              "0.7525773195876289"
            ]
          },
          "execution_count": 21,
          "metadata": {},
          "output_type": "execute_result"
        }
      ],
      "source": [
        "# Get the sensitivity (Sensitivity = True Positive/(True Positive + False Negative))\n",
        "\n",
        "upp, low = interp.confusion_matrix()\n",
        "tn, fp = upp[0], upp[1]\n",
        "fn, tp = low[0], low[1]\n",
        "\n",
        "sensitivity = tp/(tp + fn)\n",
        "sensitivity\n",
        "# For example, if sensitivity is equal to 40% it means the model is only capable of correctly detecting 40% True Positives\n",
        "# (i.e. who have Normal) but will miss 60% of False Negatives (patients that actually have Effusion but were told they did not! Not a good situation to be in)."
      ]
    },
    {
      "cell_type": "code",
      "execution_count": 22,
      "metadata": {},
      "outputs": [
        {
          "data": {
            "text/plain": [
              "0.801980198019802"
            ]
          },
          "execution_count": 22,
          "metadata": {},
          "output_type": "execute_result"
        }
      ],
      "source": [
        "# Compute specificity\n",
        "\n",
        "specificity = tn/(fp + tn)\n",
        "specificity\n",
        "# For example, if the model has a specificity of 63% and hence can correctly detect 63% of the time \n",
        "# that a patient does not have Effusion but will incorrectly classify that 37% of the patients have Effusion (False Postive) but actually do not."
      ]
    },
    {
      "cell_type": "code",
      "execution_count": 23,
      "metadata": {},
      "outputs": [
        {
          "data": {
            "text/plain": [
              "0.7849462365591398"
            ]
          },
          "execution_count": 23,
          "metadata": {},
          "output_type": "execute_result"
        }
      ],
      "source": [
        "# Positive Predictive Value (PPV), between 0 and 1\n",
        "\n",
        "ppv = tp/(tp+fp)\n",
        "ppv\n",
        "# If ppv is low it means the model doesn't perform well in correctly predicting patients with Effusion\n",
        "# If ppv is high it means the model predicts well the patients with Effusion"
      ]
    },
    {
      "cell_type": "code",
      "execution_count": 24,
      "metadata": {},
      "outputs": [
        {
          "data": {
            "text/plain": [
              "0.7714285714285715"
            ]
          },
          "execution_count": 24,
          "metadata": {},
          "output_type": "execute_result"
        }
      ],
      "source": [
        "# Negative Predictive Value (NPV)\n",
        "\n",
        "npv = tn/(tn+fn)\n",
        "npv\n",
        "# If npv is low it means the model doesn't perform well in correctly predicting patients which don't have Effusion\n",
        "# If npv is high it means the model predicts well the patients with Effusion"
      ]
    }
  ],
  "metadata": {
    "accelerator": "GPU",
    "colab": {
      "collapsed_sections": [],
      "name": "lungs_detection.ipynb",
      "provenance": []
    },
    "interpreter": {
      "hash": "3ce354fb8e1aa3449dc5b221daed33e79088122113e716bb5c3ad67e7c23357b"
    },
    "kernelspec": {
      "display_name": "fastai-3.6",
      "language": "python",
      "name": "python3"
    },
    "language_info": {
      "codemirror_mode": {
        "name": "ipython",
        "version": 3
      },
      "file_extension": ".py",
      "mimetype": "text/x-python",
      "name": "python",
      "nbconvert_exporter": "python",
      "pygments_lexer": "ipython3",
      "version": "3.7.6"
    },
    "widgets": {
      "application/vnd.jupyter.widget-state+json": {
        "0b5ae9acda74473eac13279b502d3ede": {
          "model_module": "@jupyter-widgets/base",
          "model_module_version": "1.2.0",
          "model_name": "LayoutModel",
          "state": {
            "_model_module": "@jupyter-widgets/base",
            "_model_module_version": "1.2.0",
            "_model_name": "LayoutModel",
            "_view_count": null,
            "_view_module": "@jupyter-widgets/base",
            "_view_module_version": "1.2.0",
            "_view_name": "LayoutView",
            "align_content": null,
            "align_items": null,
            "align_self": null,
            "border": null,
            "bottom": null,
            "display": null,
            "flex": null,
            "flex_flow": null,
            "grid_area": null,
            "grid_auto_columns": null,
            "grid_auto_flow": null,
            "grid_auto_rows": null,
            "grid_column": null,
            "grid_gap": null,
            "grid_row": null,
            "grid_template_areas": null,
            "grid_template_columns": null,
            "grid_template_rows": null,
            "height": null,
            "justify_content": null,
            "justify_items": null,
            "left": null,
            "margin": null,
            "max_height": null,
            "max_width": null,
            "min_height": null,
            "min_width": null,
            "object_fit": null,
            "object_position": null,
            "order": null,
            "overflow": null,
            "overflow_x": null,
            "overflow_y": null,
            "padding": null,
            "right": null,
            "top": null,
            "visibility": null,
            "width": null
          }
        },
        "1d98cd9015144a11951438d9766f85d0": {
          "model_module": "@jupyter-widgets/controls",
          "model_module_version": "1.5.0",
          "model_name": "DescriptionStyleModel",
          "state": {
            "_model_module": "@jupyter-widgets/controls",
            "_model_module_version": "1.5.0",
            "_model_name": "DescriptionStyleModel",
            "_view_count": null,
            "_view_module": "@jupyter-widgets/base",
            "_view_module_version": "1.2.0",
            "_view_name": "StyleView",
            "description_width": ""
          }
        },
        "3c6021af5e3946cf8aab3c80285f14eb": {
          "model_module": "@jupyter-widgets/controls",
          "model_module_version": "1.5.0",
          "model_name": "FloatProgressModel",
          "state": {
            "_dom_classes": [],
            "_model_module": "@jupyter-widgets/controls",
            "_model_module_version": "1.5.0",
            "_model_name": "FloatProgressModel",
            "_view_count": null,
            "_view_module": "@jupyter-widgets/controls",
            "_view_module_version": "1.5.0",
            "_view_name": "ProgressView",
            "bar_style": "success",
            "description": "",
            "description_tooltip": null,
            "layout": "IPY_MODEL_0b5ae9acda74473eac13279b502d3ede",
            "max": 102530333,
            "min": 0,
            "orientation": "horizontal",
            "style": "IPY_MODEL_3cc3a6885ef344818281f7c2925d69bb",
            "value": 102530333
          }
        },
        "3cc3a6885ef344818281f7c2925d69bb": {
          "model_module": "@jupyter-widgets/controls",
          "model_module_version": "1.5.0",
          "model_name": "ProgressStyleModel",
          "state": {
            "_model_module": "@jupyter-widgets/controls",
            "_model_module_version": "1.5.0",
            "_model_name": "ProgressStyleModel",
            "_view_count": null,
            "_view_module": "@jupyter-widgets/base",
            "_view_module_version": "1.2.0",
            "_view_name": "StyleView",
            "bar_color": null,
            "description_width": ""
          }
        },
        "43da5cdb3d4a4035a38a8252e1904cf0": {
          "model_module": "@jupyter-widgets/controls",
          "model_module_version": "1.5.0",
          "model_name": "HBoxModel",
          "state": {
            "_dom_classes": [],
            "_model_module": "@jupyter-widgets/controls",
            "_model_module_version": "1.5.0",
            "_model_name": "HBoxModel",
            "_view_count": null,
            "_view_module": "@jupyter-widgets/controls",
            "_view_module_version": "1.5.0",
            "_view_name": "HBoxView",
            "box_style": "",
            "children": [
              "IPY_MODEL_875b7aee5f584937ae62172775de2dd9",
              "IPY_MODEL_3c6021af5e3946cf8aab3c80285f14eb",
              "IPY_MODEL_fcc8d7b27e5b4567b5235b03907378d2"
            ],
            "layout": "IPY_MODEL_790007713ca54acfa6293172921cfe9b"
          }
        },
        "790007713ca54acfa6293172921cfe9b": {
          "model_module": "@jupyter-widgets/base",
          "model_module_version": "1.2.0",
          "model_name": "LayoutModel",
          "state": {
            "_model_module": "@jupyter-widgets/base",
            "_model_module_version": "1.2.0",
            "_model_name": "LayoutModel",
            "_view_count": null,
            "_view_module": "@jupyter-widgets/base",
            "_view_module_version": "1.2.0",
            "_view_name": "LayoutView",
            "align_content": null,
            "align_items": null,
            "align_self": null,
            "border": null,
            "bottom": null,
            "display": null,
            "flex": null,
            "flex_flow": null,
            "grid_area": null,
            "grid_auto_columns": null,
            "grid_auto_flow": null,
            "grid_auto_rows": null,
            "grid_column": null,
            "grid_gap": null,
            "grid_row": null,
            "grid_template_areas": null,
            "grid_template_columns": null,
            "grid_template_rows": null,
            "height": null,
            "justify_content": null,
            "justify_items": null,
            "left": null,
            "margin": null,
            "max_height": null,
            "max_width": null,
            "min_height": null,
            "min_width": null,
            "object_fit": null,
            "object_position": null,
            "order": null,
            "overflow": null,
            "overflow_x": null,
            "overflow_y": null,
            "padding": null,
            "right": null,
            "top": null,
            "visibility": null,
            "width": null
          }
        },
        "875b7aee5f584937ae62172775de2dd9": {
          "model_module": "@jupyter-widgets/controls",
          "model_module_version": "1.5.0",
          "model_name": "HTMLModel",
          "state": {
            "_dom_classes": [],
            "_model_module": "@jupyter-widgets/controls",
            "_model_module_version": "1.5.0",
            "_model_name": "HTMLModel",
            "_view_count": null,
            "_view_module": "@jupyter-widgets/controls",
            "_view_module_version": "1.5.0",
            "_view_name": "HTMLView",
            "description": "",
            "description_tooltip": null,
            "layout": "IPY_MODEL_f4ded650de1d46ebbec7a18164a1c0fa",
            "placeholder": "​",
            "style": "IPY_MODEL_1d98cd9015144a11951438d9766f85d0",
            "value": "100%"
          }
        },
        "c0ddb2aa45b24375beb3b9652a1b5229": {
          "model_module": "@jupyter-widgets/base",
          "model_module_version": "1.2.0",
          "model_name": "LayoutModel",
          "state": {
            "_model_module": "@jupyter-widgets/base",
            "_model_module_version": "1.2.0",
            "_model_name": "LayoutModel",
            "_view_count": null,
            "_view_module": "@jupyter-widgets/base",
            "_view_module_version": "1.2.0",
            "_view_name": "LayoutView",
            "align_content": null,
            "align_items": null,
            "align_self": null,
            "border": null,
            "bottom": null,
            "display": null,
            "flex": null,
            "flex_flow": null,
            "grid_area": null,
            "grid_auto_columns": null,
            "grid_auto_flow": null,
            "grid_auto_rows": null,
            "grid_column": null,
            "grid_gap": null,
            "grid_row": null,
            "grid_template_areas": null,
            "grid_template_columns": null,
            "grid_template_rows": null,
            "height": null,
            "justify_content": null,
            "justify_items": null,
            "left": null,
            "margin": null,
            "max_height": null,
            "max_width": null,
            "min_height": null,
            "min_width": null,
            "object_fit": null,
            "object_position": null,
            "order": null,
            "overflow": null,
            "overflow_x": null,
            "overflow_y": null,
            "padding": null,
            "right": null,
            "top": null,
            "visibility": null,
            "width": null
          }
        },
        "f4ded650de1d46ebbec7a18164a1c0fa": {
          "model_module": "@jupyter-widgets/base",
          "model_module_version": "1.2.0",
          "model_name": "LayoutModel",
          "state": {
            "_model_module": "@jupyter-widgets/base",
            "_model_module_version": "1.2.0",
            "_model_name": "LayoutModel",
            "_view_count": null,
            "_view_module": "@jupyter-widgets/base",
            "_view_module_version": "1.2.0",
            "_view_name": "LayoutView",
            "align_content": null,
            "align_items": null,
            "align_self": null,
            "border": null,
            "bottom": null,
            "display": null,
            "flex": null,
            "flex_flow": null,
            "grid_area": null,
            "grid_auto_columns": null,
            "grid_auto_flow": null,
            "grid_auto_rows": null,
            "grid_column": null,
            "grid_gap": null,
            "grid_row": null,
            "grid_template_areas": null,
            "grid_template_columns": null,
            "grid_template_rows": null,
            "height": null,
            "justify_content": null,
            "justify_items": null,
            "left": null,
            "margin": null,
            "max_height": null,
            "max_width": null,
            "min_height": null,
            "min_width": null,
            "object_fit": null,
            "object_position": null,
            "order": null,
            "overflow": null,
            "overflow_x": null,
            "overflow_y": null,
            "padding": null,
            "right": null,
            "top": null,
            "visibility": null,
            "width": null
          }
        },
        "f9be50b512eb4a38b428333a39d37a8b": {
          "model_module": "@jupyter-widgets/controls",
          "model_module_version": "1.5.0",
          "model_name": "DescriptionStyleModel",
          "state": {
            "_model_module": "@jupyter-widgets/controls",
            "_model_module_version": "1.5.0",
            "_model_name": "DescriptionStyleModel",
            "_view_count": null,
            "_view_module": "@jupyter-widgets/base",
            "_view_module_version": "1.2.0",
            "_view_name": "StyleView",
            "description_width": ""
          }
        },
        "fcc8d7b27e5b4567b5235b03907378d2": {
          "model_module": "@jupyter-widgets/controls",
          "model_module_version": "1.5.0",
          "model_name": "HTMLModel",
          "state": {
            "_dom_classes": [],
            "_model_module": "@jupyter-widgets/controls",
            "_model_module_version": "1.5.0",
            "_model_name": "HTMLModel",
            "_view_count": null,
            "_view_module": "@jupyter-widgets/controls",
            "_view_module_version": "1.5.0",
            "_view_name": "HTMLView",
            "description": "",
            "description_tooltip": null,
            "layout": "IPY_MODEL_c0ddb2aa45b24375beb3b9652a1b5229",
            "placeholder": "​",
            "style": "IPY_MODEL_f9be50b512eb4a38b428333a39d37a8b",
            "value": " 97.8M/97.8M [00:00&lt;00:00, 218MB/s]"
          }
        }
      }
    }
  },
  "nbformat": 4,
  "nbformat_minor": 0
}
